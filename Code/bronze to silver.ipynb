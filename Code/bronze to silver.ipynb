{
 "cells": [
  {
   "cell_type": "code",
   "execution_count": 0,
   "metadata": {
    "application/vnd.databricks.v1+cell": {
     "cellMetadata": {
      "byteLimit": 2048000,
      "rowLimit": 10000
     },
     "inputWidgets": {},
     "nuid": "f088a9d0-1e8e-4a63-bc4c-c9ca1fbe254b",
     "showTitle": false,
     "title": ""
    }
   },
   "outputs": [],
   "source": [
    "# Importing libraries for parsing deeply nested json\n",
    "from pyspark.sql import functions as F\n",
    "from pyspark.sql.functions import explode"
   ]
  },
  {
   "cell_type": "code",
   "execution_count": 0,
   "metadata": {
    "application/vnd.databricks.v1+cell": {
     "cellMetadata": {
      "byteLimit": 2048000,
      "rowLimit": 10000
     },
     "inputWidgets": {},
     "nuid": "82de6c19-27ad-4774-a956-440c7d5c0735",
     "showTitle": false,
     "title": ""
    }
   },
   "outputs": [],
   "source": [
    "#read json from bronze layer in the blob storage\n",
    "df = spark.read.option('multiline', 'true').option(\"mode\", \"PERMISSIVE\").format('json').load('dbfs:/mnt/blobstorage/data_0b6f544c-e944-4908-9fce-9595993b659c_9b9ec479-550c-436a-b39f-a9a62113e881')"
   ]
  },
  {
   "cell_type": "code",
   "execution_count": 0,
   "metadata": {
    "application/vnd.databricks.v1+cell": {
     "cellMetadata": {
      "byteLimit": 2048000,
      "rowLimit": 10000
     },
     "inputWidgets": {},
     "nuid": "b8a4b444-eaad-47e5-ae6b-39c98a678bbf",
     "showTitle": false,
     "title": ""
    }
   },
   "outputs": [
    {
     "output_type": "display_data",
     "data": {
      "text/html": [
       "<style scoped>\n",
       "  .table-result-container {\n",
       "    max-height: 300px;\n",
       "    overflow: auto;\n",
       "  }\n",
       "  table, th, td {\n",
       "    border: 1px solid black;\n",
       "    border-collapse: collapse;\n",
       "  }\n",
       "  th, td {\n",
       "    padding: 5px;\n",
       "  }\n",
       "  th {\n",
       "    text-align: left;\n",
       "  }\n",
       "</style><div class='table-result-container'><table class='table-result'><thead style='background-color: white'><tr><th>code</th><th>product</th><th>status</th><th>status_verbose</th></tr></thead><tbody><tr><td>0737628064502</td><td>List(0737628064502, List(and, asia, beverage, cereal, food, gluten, include, kit, kitchen, no, noodle, pasta, peanut, plant-based, potatoe, product, rice, seasoning, simply, stir-fry, thai, thailand, their, vegan, vegetarian), List(), List(), 1, 1, List(en:e330), List(en:e330), List(en:e330), List(en:e330), en:peanuts, en:peanuts, peanut, (en) en:peanuts, List(en:peanuts), en, List(en:peanuts), List(), List(), Simply Asia Foods, Inc., Simply Asia Foods, Inc., Thai Kitchen,Simply Asia, List(thai-kitchen, simply-asia), Plant-based foods and beverages, Plant-based foods, Cereals and potatoes, Cereals and their products, Pastas, Noodles, Rice Noodles, List(en:plant-based-foods-and-beverages, en:plant-based-foods, en:cereals-and-potatoes, en:cereals-and-their-products, en:pastas, en:noodles, en:Rice Noodles), Plant-based foods and beverages, Plant-based foods, Cereals and potatoes, Cereals and their products, Noodles, en, Plant-based foods and beverages,Plant-based foods,Cereals and potatoes,Cereals and their products,Pastas,Noodles,Rice Noodles, List(all-products, categories-known, agribalyse-food-code-unknown, agribalyse-proxy-food-code-unknown, ciqual-food-code-unknown, agribalyse-unknown), List(en:plant-based-foods-and-beverages, en:plant-based-foods, en:cereals-and-potatoes, en:cereals-and-their-products, en:pastas, en:noodles, en:rice-noodles), List(), List(), List(unknown), List(), 0737628064502, List(code-13, 0737628064xxx, 073762806xxxx, 07376280xxxxx, 0737628xxxxxx, 073762xxxxxxx, 07376xxxxxxxx, 0737xxxxxxxxx, 073xxxxxxxxxx, 07xxxxxxxxxxx, 0xxxxxxxxxxxx), en:rice-noodles, 0, 0.8875, List(andre, thierrym), List(andre, thierrym, usda-ndb-import, smartchef, org-database-usda, packbot, openfoodfacts-contributors, roboto-app, waytovegan, charlesnepote, foodie-tim), France,United States, List(en:france, en:united-states), United States, en, List(en:france, en:united-states), 1345799269, openfoodfacts-contributors, List(), List(), List(en:packaging-data-incomplete, en:ingredients-percent-analysis-ok, en:ecoscore-extended-data-not-computed, en:food-groups-1-known, en:food-groups-2-known, en:food-groups-3-unknown), List(en:packaging-data-incomplete, en:ingredients-percent-analysis-ok, en:ecoscore-extended-data-not-computed, en:food-groups-1-known, en:food-groups-2-known, en:food-groups-3-unknown, en:nutrition-value-very-high-for-category-sugars, en:vegan-label-but-could-not-confirm-for-all-ingredients, en:vegetarian-label-but-could-not-confirm-for-all-ingredients, en:ecoscore-packaging-unscored-shape, en:ecoscore-production-system-no-label), List(en:nutrition-value-very-high-for-category-sugars, en:vegan-label-but-could-not-confirm-for-all-ingredients, en:vegetarian-label-but-could-not-confirm-for-all-ingredients, en:ecoscore-packaging-unscored-shape, en:ecoscore-production-system-no-label), Databases, database-usda, Database - USDA NDB, Databases, database-usda, List(databases, database-usda, database-usda-ndb), List(en), List(List(List(List(List(0, en:thailand, 100, null)), 0, -5, List(en:unknown), List(en:thailand), 0, List(19, 33, 8, 4, 11, 12, 13, 9, 37, 0, 12, 0, 9, 7, 33, 25, 7, 3, 0, 0, 27, 37, 24, 4, 17, 33, 0, 0, 16, 0, 37, 11, 0, 3, 8, 34, 3, 31, 22, 29, 20, 34, 12, 12, 0, 41, 16, 23, 10, 0, 27, 0, 0, 10, 24, 33, 0, 33, 7, 0, 1, 0, 19), 0, List(3, 5, 1, 1, 2, 2, 2, 1, 6, 0, 2, 0, 1, 1, 5, 4, 1, 0, 0, 0, 4, 6, 4, 1, 3, 5, 0, 0, 2, 0, 6, 2, 0, 0, 1, 5, 0, 5, 3, 4, 3, 5, 2, 2, 0, 6, 2, 3, 2, 0, 4, 0, 0, 2, 4, 5, 0, 5, 1, 0, 0, 0, 3), -5, List(-2, 0, -4, -4, -3, -3, -3, -4, 1, -5, -3, -5, -4, -4, 0, -1, -4, -5, -5, -5, -1, 1, -1, -4, -2, 0, -5, -5, -3, -5, 1, -3, -5, -5, -4, 0, -5, 0, -2, -1, -2, 0, -3, -3, -5, 1, -3, -2, -3, -5, -1, -5, -5, -3, -1, 0, -5, 0, -4, -5, -5, -5, -2)), List(0, List(List(0, 1, en:unknown, xx:cellophane), List(0, 1, en:unknown, en:Container)), -100, -15, unscored_shape), List(List(), 0, no_label)), List(missing_agribalyse_match), List(1, 1, 1), 1, unknown), unknown, List(unknown), List(, thierrym, manu1400, andre, upcbot), List(andre, charlesnepote, foodie-tim, manu1400, openfoodfacts-contributors, org-database-usda, packbot, roboto-app, smartchef, thierrym, upcbot, usda-ndb-import, waytovegan), , , , List(), List(2012-08-24, 2012-08, 2012), , en:cereals, List(en:cereals-and-potatoes, en:cereals), 0, Rice Noodles, Rice Noodles, 737628064502, https://images.openfoodfacts.org/images/products/073/762/806/4502/front_en.6.200.jpg, https://images.openfoodfacts.org/images/products/073/762/806/4502/front_en.6.100.jpg, https://images.openfoodfacts.org/images/products/073/762/806/4502/front_en.6.400.jpg, https://images.openfoodfacts.org/images/products/073/762/806/4502/ingredients_en.10.200.jpg, https://images.openfoodfacts.org/images/products/073/762/806/4502/ingredients_en.10.100.jpg, https://images.openfoodfacts.org/images/products/073/762/806/4502/ingredients_en.10.400.jpg, https://images.openfoodfacts.org/images/products/073/762/806/4502/nutrition_en.12.200.jpg, https://images.openfoodfacts.org/images/products/073/762/806/4502/nutrition_en.12.100.jpg, https://images.openfoodfacts.org/images/products/073/762/806/4502/nutrition_en.12.400.jpg, https://images.openfoodfacts.org/images/products/073/762/806/4502/front_en.6.200.jpg, https://images.openfoodfacts.org/images/products/073/762/806/4502/front_en.6.100.jpg, https://images.openfoodfacts.org/images/products/073/762/806/4502/front_en.6.400.jpg, List(List(List(List(71, 100), List(284, 400), List(1089, 1536)), 1345799270, openfoodfacts-contributors), List(List(List(100, 72), List(400, 289), List(1812, 1311)), 1345799309, andre), List(List(List(72, 100), List(289, 400), List(927, 1281)), 1345799558, andre), List(List(List(72, 100), List(289, 400), List(927, 1281)), 1345799666, andre), List(List(List(100, 54), List(400, 216), List(1611, 870)), 1345799925, andre), List(0x0--4--4, 2, null, 6, List(List(100, 72), List(200, 145), List(400, 289), List(1812, 1311)), null), List(0x0--4--4, 2, null, 6, List(List(100, 72), List(200, 145), List(400, 289), List(1812, 1311)), null), List(0x0--3--3, 4, checked, 10, List(List(72, 100), List(145, 200), List(289, 400), List(927, 1281)), null), List(0x0--3--3, 4, checked, 10, List(List(72, 100), List(145, 200), List(289, 400), List(927, 1281)), null), List(0x0--4--4, 5, checked, 12, List(List(100, 54), List(200, 108), List(400, 216), List(1611, 870)), null), List(0x0--4--4, 5, checked, 12, List(List(100, 54), List(200, 108), List(400, 216), List(1611, 870)), null)), List(andre, manu1400, thierrym), List(andre, manu1400, thierrym, upcbot, smartchef, org-database-usda, waytovegan), List(List(en:rice-noodles, List(List(null, 9100, null, en:rice, null, 50.0, 100.0, 25, rice, yes, yes), List(18066, null, null, en:water, null, 25.0, 50.0, 0, water, yes, yes)), 75, 100, 50, Rice Noodles, maybe, maybe), List(en:seasoning-packet, List(List(15001, null, null, en:peanut, null, 12.5, 50.0, 0, peanut, yes, yes), List(null, 31016, null, en:sugar, null, 6.25, 13.46, 0, sugar, yes, yes), List(11058, null, null, en:salt, null, 0.36, 0.72, 0, salt, yes, yes), List(9510, null, null, en:corn-starch, null, 0.36, 0.72, 0, corn starch, yes, yes), List(null, null, null, en:spice, List(List(20151, en:chili-pepper, 0.18, 0.72, 0, chili, yes, yes), List(null, en:cinnamon, 0.09, 0.36, 0, cinnamon, yes, yes), List(null, en:pepper, 0.045, 0.24, 0, pepper, yes, yes), List(null, en:cumin, 0.0225, 0.18, 0, cumin, yes, yes), List(11052, en:clove, 0.0225, 0.18, 0, clove, yes, yes)), 0.36, 0.72, 0, spices, yes, yes), List(20591, null, null, en:hydrolysed-soy-protein, null, 0.36, 0.72, 0, hydrolyzed soy protein, yes, yes), List(11003, null, null, en:spring-onion, null, 0.36, 0.72, 0, green onions, yes, yes), List(null, null, null, en:e330, null, 0.36, 0.72, 0, citric acid, yes, yes), List(17040, null, no, en:peanut-oil, null, 0.36, 0.72, 0, peanut oil, yes, yes), List(17400, null, no, en:sesame-oil, null, 0.36, 0.72, 0, sesame oil, yes, yes), List(null, null, null, en:natural-flavouring, null, 3.37, 0.72, 0, natural flavor, maybe, maybe)), 25, 50, 0, seasoning packet, null, null)), List(List(en:seasoning-packet), List(en:seasoning-packet), List(en:seasoning-packet)), List(en:palm-oil-content-unknown, en:vegan, en:vegetarian), List(RICE NOODLES , (, (, null, null, RICE, ,, null, null, null,  WATER), ,, null, null, null,  SEASONING PACKET , (, (, null, null, PEANUT, ,, null, null, null,  SUGAR, ,, null, null, null,  SALT, ,, null, null, null,  CORN STARCH, ,, null, null, null,  SPICES , [, [, null, null, CHILI, ,, null, null, null,  CINNAMON, ,, null, null, null,  PEPPER, ,, null, null, null,  CUMIN, ,, null, null, null,  CLOVE], ,, null, null, null,  HYDRDLYZED SOY PROTEIN, ,, null, null, null,  GREEN ONIONS, ,, null, null, null,  CITRIC ACID, ,, null, null, null,  PEANUT OIL, ,, null, null, null,  SESAME OIL, ,, null, null, null,  , :, :, null, null,  NATURAL FLAVOR , :, :, null, null,  ).), 0, 0, List(), List(en:rice-noodles, en:dough, en:noodle, en:seasoning-packet, en:rice, en:water, en:peanut, en:nut, en:sugar, en:added-sugar, en:disaccharide, en:salt, en:corn-starch, en:starch, en:spice, en:condiment, en:hydrolysed-soy-protein, en:protein, en:plant-protein, en:hydrolysed-vegetable-protein, en:soy-protein, en:spring-onion, en:vegetable, en:root-vegetable, en:onion-family-vegetable, en:onion, en:e330, en:peanut-oil, en:oil-and-fat, en:vegetable-oil-and-fat, en:vegetable-oil, en:sesame-oil, en:natural-flavouring, en:flavouring, en:chili-pepper, en:fruit-vegetable, en:cinnamon, en:pepper, en:seed, en:cumin, en:clove), List(rice-noodles, rice, water, seasoning-packet, peanut, sugar, salt, corn-starch, spices, chili, cinnamon, pepper, cumin, clove, hydrdlyzed-soy-protein, green-onions, citric-acid, peanut-oil, sesame-oil, natural-flavor), en, 20, List(20, 11-20), List(en:rice-noodles, en:seasoning-packet, en:rice, en:water, en:peanut, en:sugar, en:salt, en:corn-starch, en:spice, en:hydrolysed-soy-protein, en:spring-onion, en:e330, en:peanut-oil, en:sesame-oil, en:natural-flavouring, en:chili-pepper, en:cinnamon, en:pepper, en:cumin, en:clove), 1, List(en:rice-noodles, en:dough, en:noodle, en:seasoning-packet, en:rice, en:water, en:peanut, en:nut, en:sugar, en:added-sugar, en:disaccharide, en:salt, en:corn-starch, en:starch, en:spice, en:condiment, en:hydrolysed-soy-protein, en:protein, en:plant-protein, en:hydrolysed-vegetable-protein, en:soy-protein, en:spring-onion, en:vegetable, en:root-vegetable, en:onion-family-vegetable, en:onion, en:e330, en:peanut-oil, en:oil-and-fat, en:vegetable-oil-and-fat, en:vegetable-oil, en:sesame-oil, en:natural-flavouring, en:flavouring, en:chili-pepper, en:fruit-vegetable, en:cinnamon, en:pepper, en:seed, en:cumin, en:clove), Rice Noodles (rice, water), seasoning packet (peanut, sugar, salt, corn starch, spices [chili, cinnamon, pepper, cumin, clove], hydrolyzed soy protein, green onions, citric acid, peanut oil, sesame oil, natural flavor)., RICE NOODLES (RICE, WATER), SEASONING PACKET (PEANUT, SUGAR, SALT, CORN STARCH, SPICES [CHILI, CINNAMON, PEPPER, CUMIN, CLOVE], HYDRDLYZED SOY PROTEIN, GREEN ONIONS, CITRIC ACID, PEANUT OIL, SESAME OIL, : NATURAL FLAVOR : )., Rice Noodles (rice, water), seasoning packet (peanut, sugar, salt, corn starch, spices [chili, cinnamon, pepper, cumin, clove], hydrolyzed soy protein, green onions, citric acid, peanut oil, sesame oil, natural flavor)., Noodle: rice, water. seasoning packet: peanut, sugar, hydrolyzed soy protein, green onion, corn maltodextrin, spice (including paprika), citric acid, sea salt, extractives of paprika (color), silicon dioxide (added to make free flowing), yeast extract., Rice Noodles (rice, water), seasoning packet (<span class=\"allergen\">peanut</span>, sugar, salt, corn starch, spices [chili, cinnamon, pepper, cumin, clove], hydrolyzed soy protein, green onions, citric acid, peanut oil, sesame oil, natural flavor)., Rice Noodles (rice, water), seasoning packet (<span class=\"allergen\">peanut</span>, sugar, salt, corn starch, spices [chili, cinnamon, pepper, cumin, clove], hydrolyzed soy protein, green onions, citric acid, peanut oil, sesame oil, natural flavor)., 0, List(), 0, 0, 17, 100, List(en:cinnamon, en:cumin, en:e330, en:natural-flavouring, en:pepper, en:rice-noodles, en:seasoning-packet, en:spice), 8, 20120622, 20190830, 40, No gluten, Vegetarian, Vegan, List(en:no-gluten, en:vegetarian, en:vegan), en, No gluten,Vegetarian,Vegan, List(en:no-gluten, en:vegetarian, en:vegan), en, List(6), List(6), List(en:english), List(en:english, en:1), List(2024-02-05, 2024-02, 2024), foodie-tim, List(2012-08-24, 2012-08, 2012), 1345799925, foodie-tim, 1707110670, 1707515877, en, en, , List(), , List(), 5, List(), List(), List(en:packagings-number-of-components-2, en:ecoscore-not-computed, en:main-countries-fr-product-name-not-in-country-language, en:main-countries-fr-ingredients-not-in-country-language, en:main-countries-fr-no-data-in-country-language, en:nutriscore-computed, en:nutrition-fruits-vegetables-nuts-estimate-from-ingredients, en:nutrition-all-nutriscore-values-known, en:nutrition-fruits-vegetables-legumes-estimate-from-ingredients, en:nutriscore-2021-different-from-2023, en:nutriscore-2021-better-than-2023, en:nutriscore-2021-c-2023-d, en:packagings-not-complete, en:packagings-not-empty-but-not-complete, en:packagings-not-empty, en:ecoscore-extended-data-not-computed), 1, , 4, , 4, List(List(List(ingredients, en:salt), List(ingredients, en:starch), List(ingredients, en:sugar), List(ingredients, en:vegetable-oil)), List(List(ingredients, en:flavouring))), List(en:4-ultra-processed-food-and-drink-products), List(), List(), List(moderate, moderate, moderate, high), List(en:fat-in-moderate-quantity, en:saturated-fat-in-moderate-quantity, en:sugars-in-high-quantity, en:salt-in-moderate-quantity), List(0.038, 0.038, 0.0198, mg, 38, 71.15, 71.15, 37, g, 71.15, 0, 0, 0, mg, 0, 1611, 385, 385, 200, kcal, 385, 396.09, 1611, 838, kcal, 385, 7.69, 7.69, 4, g, 7.69, 1.9, 1.9, 0.988, g, 1.9, 0.54, 0.54, 13.04, 13.04, 6.9E-4, 6.9E-4, 3.59E-4, mg, 0.69, 4, 4, 4, 4, 4, 9.62, 9.62, 5, g, 9.62, 0.72, 0.72, 0.374, mg, 720, 1.92, 1.92, 0.998, g, 1.92, 0.288, 0.288, 0.15, mg, 288, 13.46, 13.46, 7, g, 13.46, 0, 0, 0, g, 0, 1.155E-4, 1.155E-4, 6.01E-5, IU, 385, 0, 0, 0, mg, 0), List(List(1, List(1611, 4, 1611, 1.9, 1, 1.9, 13.04, 0, 13, 0, 0, 0, 0, 10, 6, 9.62, 5, 9.62, 1.92, 1, 1.9, 288, 3, 288, 13.46, 2, 13.46), c, 1, 1, 1, 4), List(1, List(List(List(List(energy, 4, 10, kJ, 1611.0), List(sugars, 3, 15, g, 13.46), List(saturated_fat, 1, 10, g, 1.92), List(salt, 3, 20, g, 0.72)), List(List(fiber, 0, 5, g, 1.9), List(fruits_vegetables_legumes, 0, 5, %, 0.5))), 0, negative_points_greater_than_or_equal_to_11, 0, 0, 0, 0, 0, 11, 55, List(fiber, fruits_vegetables_legumes), 0, 10), d, 1, 1, 1, 11)), List(c), List(d), List(1611, 4, 1611, 1.9, 1, 1.9, 13.04, 0, 13, c, 0, 0, 0, 0, 10, 6, 9.62, 5, 9.62, 1.92, 1, 1.9, 4, 288, 3, 288, 13.46, 2, 13.46), c, 4, -4, List(c), 2021, on, 100g, 100g, , 100g, 100g, c, c, List(c), 0, , 1, 0.54, 1, 13.04, , , , , Thailand, List(en:thailand), en, Thailand, List(en:thailand), List(), Container, Cellophane, List(en:container, xx:cellophane), en, List(), Container, Cellophane, Cellophane,Carton, List(), List(en:Container, xx:cellophane), List(en:container, xx:cellophane), , , List(List(xx:cellophane), List(en:Container)), 0, 2, List(andre), List(openfoodfacts-contributors, andre), Cereals and potatoes, List(cereals-and-potatoes, known), Cereals, List(cereals, known), 21900000004, List(bottom-25-percent-scans-2019, bottom-20-percent-scans-2019, top-85-percent-scans-2019, top-90-percent-scans-2019, top-50000-it-scans-2019, top-100000-it-scans-2019, top-country-it-scans-2019, top-100000-scans-2020, at-least-5-scans-2020, top-75-percent-scans-2020, top-80-percent-scans-2020, top-85-percent-scans-2020, top-90-percent-scans-2020, top-10-by-scans-2020, top-50-by-scans-2020, top-100-by-scans-2020, top-500-by-scans-2020, top-1000-by-scans-2020, top-5000-by-scans-2020, top-10000-by-scans-2020, top-50000-by-scans-2020, top-100000-by-scans-2020, top-country-by-scans-2020, top-5000-ca-scans-2020, top-10000-ca-scans-2020, top-50000-ca-scans-2020, top-100000-ca-scans-2020, top-50000-be-scans-2020, top-100000-be-scans-2020, top-100000-scans-2021, at-least-5-scans-2021, top-75-percent-scans-2021, top-80-percent-scans-2021, top-85-percent-scans-2021, top-90-percent-scans-2021, top-5000-it-scans-2021, top-10000-it-scans-2021, top-50000-it-scans-2021, top-100000-it-scans-2021, top-country-it-scans-2021, top-500-ae-scans-2021, top-1000-ae-scans-2021, top-5000-ae-scans-2021, top-10000-ae-scans-2021, top-50000-ae-scans-2021, top-100000-ae-scans-2021, top-5000-us-scans-2021, top-10000-us-scans-2021, top-50000-us-scans-2021, top-100000-us-scans-2021, top-500-in-scans-2021, top-1000-in-scans-2021, top-5000-in-scans-2021, top-10000-in-scans-2021, top-50000-in-scans-2021, top-100000-in-scans-2021, top-100000-scans-2022, top-75-percent-scans-2022, top-80-percent-scans-2022, top-85-percent-scans-2022, top-90-percent-scans-2022, top-500-ca-scans-2022, top-1000-ca-scans-2022, top-5000-ca-scans-2022, top-10000-ca-scans-2022, top-50000-ca-scans-2022, top-100000-ca-scans-2022, top-country-ca-scans-2022, top-50-by-scans-2022, top-100-by-scans-2022, top-500-by-scans-2022, top-1000-by-scans-2022, top-5000-by-scans-2022, top-10000-by-scans-2022, top-50000-by-scans-2022, top-100000-by-scans-2022), Thai peanut noodle kit includes stir-fry rice noodles & thai peanut seasoning, Thai peanut noodle kit includes stir-fry rice noodles & thai peanut seasoning, Thai peanut noodle kit includes stir-fry rice noodles & thai peanut seasoning, 155, g, , List(), 155 g, List(), 27, 10, List(List(List(https://images.openfoodfacts.org/images/products/073/762/806/4502/front_en.6.400.jpg), List(https://images.openfoodfacts.org/images/products/073/762/806/4502/front_en.6.200.jpg), List(https://images.openfoodfacts.org/images/products/073/762/806/4502/front_en.6.100.jpg)), List(List(https://images.openfoodfacts.org/images/products/073/762/806/4502/ingredients_en.10.400.jpg), List(https://images.openfoodfacts.org/images/products/073/762/806/4502/ingredients_en.10.200.jpg), List(https://images.openfoodfacts.org/images/products/073/762/806/4502/ingredients_en.10.100.jpg)), List(List(https://images.openfoodfacts.org/images/products/073/762/806/4502/nutrition_en.12.400.jpg), List(https://images.openfoodfacts.org/images/products/073/762/806/4502/nutrition_en.12.200.jpg), List(https://images.openfoodfacts.org/images/products/073/762/806/4502/nutrition_en.12.100.jpg))), 52, g, 0.333 PACKAGE (52 g), 0.333 PACKAGE (52 g), 1587581231, List(List(List(brands, countries), usda-ndb, List(), 1489067409, null, null, https://api.nal.usda.gov/ndb/reports/?ndbno=45108002&type=f&format=json&api_key=DEMO_KEY), List(List(product_name_en, categories, brand_owner, data_sources, nutrition_data_per, serving_size, ingredients_text_en, nutrients.calcium_unit, nutrients.calcium_value, nutrients.carbohydrates_value, nutrients.cholesterol_unit, nutrients.cholesterol_value, nutrients.energy_value, nutrients.energy-kcal_value, nutrients.fat_value, nutrients.fiber_value, nutrients.iron_unit, nutrients.iron_value, nutrients.proteins_value, nutrients.salt_unit, nutrients.salt_value, nutrients.saturated-fat_value, nutrients.sugars_value, nutrients.trans-fat_unit, nutrients.trans-fat_value, nutrients.vitamin-a_unit, nutrients.vitamin-a_value, nutrients.vitamin-c_unit, nutrients.vitamin-c_value), database-usda, List(), 1587581231, null, database-usda, null)), List(List(2019-09-25T00:00:00Z, All Noodles, LI, 628190, 2019-09-25T00:00:00Z, 2019-12-06T00:00:00Z)), en:to-be-completed, en:nutrition-facts-completed, en:ingredients-completed, en:expiration-date-to-be-completed, en:packaging-code-to-be-completed, en:characteristics-completed, en:origins-completed, en:categories-completed, en:brands-completed, en:packaging-completed, en:quantity-completed, en:product-name-completed, en:photos-to-be-validated, en:packaging-photo-to-be-selected, en:nutrition-photo-selected, en:ingredients-photo-selected, en:front-photo-selected, en:photos-uploaded, List(en:to-be-completed, en:nutrition-facts-completed, en:ingredients-completed, en:expiration-date-to-be-completed, en:packaging-code-to-be-completed, en:characteristics-completed, en:origins-completed, en:categories-completed, en:brands-completed, en:packaging-completed, en:quantity-completed, en:product-name-completed, en:photos-to-be-validated, en:packaging-photo-to-be-selected, en:nutrition-photo-selected, en:ingredients-photo-selected, en:front-photo-selected, en:photos-uploaded), List(en:to-be-completed, en:nutrition-facts-completed, en:ingredients-completed, en:expiration-date-to-be-completed, en:packaging-code-to-be-completed, en:characteristics-completed, en:origins-completed, en:categories-completed, en:brands-completed, en:packaging-completed, en:quantity-completed, en:product-name-completed, en:photos-to-be-validated, en:packaging-photo-to-be-selected, en:nutrition-photo-selected, en:ingredients-photo-selected, en:front-photo-selected, en:photos-uploaded), , List(), stakano,chocolatine, List(stakano, chocolatine), en:peanuts, , (en) en:peanuts, List(en:peanuts), en, List(en:peanuts), 4, 1, List(), 20240209, List(), List(), List())</td><td>1</td><td>product found</td></tr></tbody></table></div>"
      ]
     },
     "metadata": {
      "application/vnd.databricks.v1+output": {
       "addedWidgets": {},
       "aggData": [],
       "aggError": "",
       "aggOverflow": false,
       "aggSchema": [],
       "aggSeriesLimitReached": false,
       "aggType": "",
       "arguments": {},
       "columnCustomDisplayInfos": {},
       "data": [
        [
         "0737628064502",
         [
          "0737628064502",
          [
           "and",
           "asia",
           "beverage",
           "cereal",
           "food",
           "gluten",
           "include",
           "kit",
           "kitchen",
           "no",
           "noodle",
           "pasta",
           "peanut",
           "plant-based",
           "potatoe",
           "product",
           "rice",
           "seasoning",
           "simply",
           "stir-fry",
           "thai",
           "thailand",
           "their",
           "vegan",
           "vegetarian"
          ],
          [],
          [],
          1,
          1,
          [
           "en:e330"
          ],
          [
           "en:e330"
          ],
          [
           "en:e330"
          ],
          [
           "en:e330"
          ],
          "en:peanuts",
          "en:peanuts, peanut",
          "(en) en:peanuts",
          [
           "en:peanuts"
          ],
          "en",
          [
           "en:peanuts"
          ],
          [],
          [],
          "Simply Asia Foods, Inc.",
          "Simply Asia Foods, Inc.",
          "Thai Kitchen,Simply Asia",
          [
           "thai-kitchen",
           "simply-asia"
          ],
          "Plant-based foods and beverages, Plant-based foods, Cereals and potatoes, Cereals and their products, Pastas, Noodles, Rice Noodles",
          [
           "en:plant-based-foods-and-beverages",
           "en:plant-based-foods",
           "en:cereals-and-potatoes",
           "en:cereals-and-their-products",
           "en:pastas",
           "en:noodles",
           "en:Rice Noodles"
          ],
          "Plant-based foods and beverages, Plant-based foods, Cereals and potatoes, Cereals and their products, Noodles",
          "en",
          "Plant-based foods and beverages,Plant-based foods,Cereals and potatoes,Cereals and their products,Pastas,Noodles,Rice Noodles",
          [
           "all-products",
           "categories-known",
           "agribalyse-food-code-unknown",
           "agribalyse-proxy-food-code-unknown",
           "ciqual-food-code-unknown",
           "agribalyse-unknown"
          ],
          [
           "en:plant-based-foods-and-beverages",
           "en:plant-based-foods",
           "en:cereals-and-potatoes",
           "en:cereals-and-their-products",
           "en:pastas",
           "en:noodles",
           "en:rice-noodles"
          ],
          [],
          [],
          [
           "unknown"
          ],
          [],
          "0737628064502",
          [
           "code-13",
           "0737628064xxx",
           "073762806xxxx",
           "07376280xxxxx",
           "0737628xxxxxx",
           "073762xxxxxxx",
           "07376xxxxxxxx",
           "0737xxxxxxxxx",
           "073xxxxxxxxxx",
           "07xxxxxxxxxxx",
           "0xxxxxxxxxxxx"
          ],
          "en:rice-noodles",
          0,
          0.8875,
          [
           "andre",
           "thierrym"
          ],
          [
           "andre",
           "thierrym",
           "usda-ndb-import",
           "smartchef",
           "org-database-usda",
           "packbot",
           "openfoodfacts-contributors",
           "roboto-app",
           "waytovegan",
           "charlesnepote",
           "foodie-tim"
          ],
          "France,United States",
          [
           "en:france",
           "en:united-states"
          ],
          "United States",
          "en",
          [
           "en:france",
           "en:united-states"
          ],
          1345799269,
          "openfoodfacts-contributors",
          [],
          [],
          [
           "en:packaging-data-incomplete",
           "en:ingredients-percent-analysis-ok",
           "en:ecoscore-extended-data-not-computed",
           "en:food-groups-1-known",
           "en:food-groups-2-known",
           "en:food-groups-3-unknown"
          ],
          [
           "en:packaging-data-incomplete",
           "en:ingredients-percent-analysis-ok",
           "en:ecoscore-extended-data-not-computed",
           "en:food-groups-1-known",
           "en:food-groups-2-known",
           "en:food-groups-3-unknown",
           "en:nutrition-value-very-high-for-category-sugars",
           "en:vegan-label-but-could-not-confirm-for-all-ingredients",
           "en:vegetarian-label-but-could-not-confirm-for-all-ingredients",
           "en:ecoscore-packaging-unscored-shape",
           "en:ecoscore-production-system-no-label"
          ],
          [
           "en:nutrition-value-very-high-for-category-sugars",
           "en:vegan-label-but-could-not-confirm-for-all-ingredients",
           "en:vegetarian-label-but-could-not-confirm-for-all-ingredients",
           "en:ecoscore-packaging-unscored-shape",
           "en:ecoscore-production-system-no-label"
          ],
          "Databases, database-usda, Database - USDA NDB",
          "Databases, database-usda",
          [
           "databases",
           "database-usda",
           "database-usda-ndb"
          ],
          [
           "en"
          ],
          [
           [
            [
             [
              [
               "0",
               "en:thailand",
               100,
               null
              ]
             ],
             0,
             -5,
             [
              "en:unknown"
             ],
             [
              "en:thailand"
             ],
             0,
             [
              19,
              33,
              8,
              4,
              11,
              12,
              13,
              9,
              37,
              0,
              12,
              0,
              9,
              7,
              33,
              25,
              7,
              3,
              0,
              0,
              27,
              37,
              24,
              4,
              17,
              33,
              0,
              0,
              16,
              0,
              37,
              11,
              0,
              3,
              8,
              34,
              3,
              31,
              22,
              29,
              20,
              34,
              12,
              12,
              0,
              41,
              16,
              23,
              10,
              0,
              27,
              0,
              0,
              10,
              24,
              33,
              0,
              33,
              7,
              0,
              1,
              0,
              19
             ],
             0,
             [
              3,
              5,
              1,
              1,
              2,
              2,
              2,
              1,
              6,
              0,
              2,
              0,
              1,
              1,
              5,
              4,
              1,
              0,
              0,
              0,
              4,
              6,
              4,
              1,
              3,
              5,
              0,
              0,
              2,
              0,
              6,
              2,
              0,
              0,
              1,
              5,
              0,
              5,
              3,
              4,
              3,
              5,
              2,
              2,
              0,
              6,
              2,
              3,
              2,
              0,
              4,
              0,
              0,
              2,
              4,
              5,
              0,
              5,
              1,
              0,
              0,
              0,
              3
             ],
             -5,
             [
              -2,
              0,
              -4,
              -4,
              -3,
              -3,
              -3,
              -4,
              1,
              -5,
              -3,
              -5,
              -4,
              -4,
              0,
              -1,
              -4,
              -5,
              -5,
              -5,
              -1,
              1,
              -1,
              -4,
              -2,
              0,
              -5,
              -5,
              -3,
              -5,
              1,
              -3,
              -5,
              -5,
              -4,
              0,
              -5,
              0,
              -2,
              -1,
              -2,
              0,
              -3,
              -3,
              -5,
              1,
              -3,
              -2,
              -3,
              -5,
              -1,
              -5,
              -5,
              -3,
              -1,
              0,
              -5,
              0,
              -4,
              -5,
              -5,
              -5,
              -2
             ]
            ],
            [
             0,
             [
              [
               0,
               1,
               "en:unknown",
               "xx:cellophane"
              ],
              [
               0,
               1,
               "en:unknown",
               "en:Container"
              ]
             ],
             -100,
             -15,
             "unscored_shape"
            ],
            [
             [],
             0,
             "no_label"
            ]
           ],
           [
            "missing_agribalyse_match"
           ],
           [
            1,
            1,
            1
           ],
           1,
           "unknown"
          ],
          "unknown",
          [
           "unknown"
          ],
          [
           "",
           "thierrym",
           "manu1400",
           "andre",
           "upcbot"
          ],
          [
           "andre",
           "charlesnepote",
           "foodie-tim",
           "manu1400",
           "openfoodfacts-contributors",
           "org-database-usda",
           "packbot",
           "roboto-app",
           "smartchef",
           "thierrym",
           "upcbot",
           "usda-ndb-import",
           "waytovegan"
          ],
          "",
          "",
          "",
          [],
          [
           "2012-08-24",
           "2012-08",
           "2012"
          ],
          "",
          "en:cereals",
          [
           "en:cereals-and-potatoes",
           "en:cereals"
          ],
          0,
          "Rice Noodles",
          "Rice Noodles",
          "737628064502",
          "https://images.openfoodfacts.org/images/products/073/762/806/4502/front_en.6.200.jpg",
          "https://images.openfoodfacts.org/images/products/073/762/806/4502/front_en.6.100.jpg",
          "https://images.openfoodfacts.org/images/products/073/762/806/4502/front_en.6.400.jpg",
          "https://images.openfoodfacts.org/images/products/073/762/806/4502/ingredients_en.10.200.jpg",
          "https://images.openfoodfacts.org/images/products/073/762/806/4502/ingredients_en.10.100.jpg",
          "https://images.openfoodfacts.org/images/products/073/762/806/4502/ingredients_en.10.400.jpg",
          "https://images.openfoodfacts.org/images/products/073/762/806/4502/nutrition_en.12.200.jpg",
          "https://images.openfoodfacts.org/images/products/073/762/806/4502/nutrition_en.12.100.jpg",
          "https://images.openfoodfacts.org/images/products/073/762/806/4502/nutrition_en.12.400.jpg",
          "https://images.openfoodfacts.org/images/products/073/762/806/4502/front_en.6.200.jpg",
          "https://images.openfoodfacts.org/images/products/073/762/806/4502/front_en.6.100.jpg",
          "https://images.openfoodfacts.org/images/products/073/762/806/4502/front_en.6.400.jpg",
          [
           [
            [
             [
              71,
              100
             ],
             [
              284,
              400
             ],
             [
              1089,
              1536
             ]
            ],
            1345799270,
            "openfoodfacts-contributors"
           ],
           [
            [
             [
              100,
              72
             ],
             [
              400,
              289
             ],
             [
              1812,
              1311
             ]
            ],
            1345799309,
            "andre"
           ],
           [
            [
             [
              72,
              100
             ],
             [
              289,
              400
             ],
             [
              927,
              1281
             ]
            ],
            1345799558,
            "andre"
           ],
           [
            [
             [
              72,
              100
             ],
             [
              289,
              400
             ],
             [
              927,
              1281
             ]
            ],
            1345799666,
            "andre"
           ],
           [
            [
             [
              100,
              54
             ],
             [
              400,
              216
             ],
             [
              1611,
              870
             ]
            ],
            1345799925,
            "andre"
           ],
           [
            "0x0--4--4",
            "2",
            null,
            "6",
            [
             [
              100,
              72
             ],
             [
              200,
              145
             ],
             [
              400,
              289
             ],
             [
              1812,
              1311
             ]
            ],
            null
           ],
           [
            "0x0--4--4",
            "2",
            null,
            "6",
            [
             [
              100,
              72
             ],
             [
              200,
              145
             ],
             [
              400,
              289
             ],
             [
              1812,
              1311
             ]
            ],
            null
           ],
           [
            "0x0--3--3",
            "4",
            "checked",
            "10",
            [
             [
              72,
              100
             ],
             [
              145,
              200
             ],
             [
              289,
              400
             ],
             [
              927,
              1281
             ]
            ],
            null
           ],
           [
            "0x0--3--3",
            "4",
            "checked",
            "10",
            [
             [
              72,
              100
             ],
             [
              145,
              200
             ],
             [
              289,
              400
             ],
             [
              927,
              1281
             ]
            ],
            null
           ],
           [
            "0x0--4--4",
            "5",
            "checked",
            "12",
            [
             [
              100,
              54
             ],
             [
              200,
              108
             ],
             [
              400,
              216
             ],
             [
              1611,
              870
             ]
            ],
            null
           ],
           [
            "0x0--4--4",
            "5",
            "checked",
            "12",
            [
             [
              100,
              54
             ],
             [
              200,
              108
             ],
             [
              400,
              216
             ],
             [
              1611,
              870
             ]
            ],
            null
           ]
          ],
          [
           "andre",
           "manu1400",
           "thierrym"
          ],
          [
           "andre",
           "manu1400",
           "thierrym",
           "upcbot",
           "smartchef",
           "org-database-usda",
           "waytovegan"
          ],
          [
           [
            "en:rice-noodles",
            [
             [
              null,
              "9100",
              null,
              "en:rice",
              null,
              50.0,
              100.0,
              25,
              "rice",
              "yes",
              "yes"
             ],
             [
              "18066",
              null,
              null,
              "en:water",
              null,
              25.0,
              50.0,
              0,
              "water",
              "yes",
              "yes"
             ]
            ],
            75,
            100,
            50,
            "Rice Noodles",
            "maybe",
            "maybe"
           ],
           [
            "en:seasoning-packet",
            [
             [
              "15001",
              null,
              null,
              "en:peanut",
              null,
              12.5,
              50.0,
              0,
              "peanut",
              "yes",
              "yes"
             ],
             [
              null,
              "31016",
              null,
              "en:sugar",
              null,
              6.25,
              13.46,
              0,
              "sugar",
              "yes",
              "yes"
             ],
             [
              "11058",
              null,
              null,
              "en:salt",
              null,
              0.36,
              0.72,
              0,
              "salt",
              "yes",
              "yes"
             ],
             [
              "9510",
              null,
              null,
              "en:corn-starch",
              null,
              0.36,
              0.72,
              0,
              "corn starch",
              "yes",
              "yes"
             ],
             [
              null,
              null,
              null,
              "en:spice",
              [
               [
                "20151",
                "en:chili-pepper",
                0.18,
                0.72,
                0,
                "chili",
                "yes",
                "yes"
               ],
               [
                null,
                "en:cinnamon",
                0.09,
                0.36,
                0,
                "cinnamon",
                "yes",
                "yes"
               ],
               [
                null,
                "en:pepper",
                0.045,
                0.24,
                0,
                "pepper",
                "yes",
                "yes"
               ],
               [
                null,
                "en:cumin",
                0.0225,
                0.18,
                0,
                "cumin",
                "yes",
                "yes"
               ],
               [
                "11052",
                "en:clove",
                0.0225,
                0.18,
                0,
                "clove",
                "yes",
                "yes"
               ]
              ],
              0.36,
              0.72,
              0,
              "spices",
              "yes",
              "yes"
             ],
             [
              "20591",
              null,
              null,
              "en:hydrolysed-soy-protein",
              null,
              0.36,
              0.72,
              0,
              "hydrolyzed soy protein",
              "yes",
              "yes"
             ],
             [
              "11003",
              null,
              null,
              "en:spring-onion",
              null,
              0.36,
              0.72,
              0,
              "green onions",
              "yes",
              "yes"
             ],
             [
              null,
              null,
              null,
              "en:e330",
              null,
              0.36,
              0.72,
              0,
              "citric acid",
              "yes",
              "yes"
             ],
             [
              "17040",
              null,
              "no",
              "en:peanut-oil",
              null,
              0.36,
              0.72,
              0,
              "peanut oil",
              "yes",
              "yes"
             ],
             [
              "17400",
              null,
              "no",
              "en:sesame-oil",
              null,
              0.36,
              0.72,
              0,
              "sesame oil",
              "yes",
              "yes"
             ],
             [
              null,
              null,
              null,
              "en:natural-flavouring",
              null,
              3.37,
              0.72,
              0,
              "natural flavor",
              "maybe",
              "maybe"
             ]
            ],
            25,
            50,
            0,
            "seasoning packet",
            null,
            null
           ]
          ],
          [
           [
            "en:seasoning-packet"
           ],
           [
            "en:seasoning-packet"
           ],
           [
            "en:seasoning-packet"
           ]
          ],
          [
           "en:palm-oil-content-unknown",
           "en:vegan",
           "en:vegetarian"
          ],
          [
           "RICE NOODLES ",
           "(",
           "(",
           null,
           null,
           "RICE",
           ",",
           null,
           null,
           null,
           " WATER)",
           ",",
           null,
           null,
           null,
           " SEASONING PACKET ",
           "(",
           "(",
           null,
           null,
           "PEANUT",
           ",",
           null,
           null,
           null,
           " SUGAR",
           ",",
           null,
           null,
           null,
           " SALT",
           ",",
           null,
           null,
           null,
           " CORN STARCH",
           ",",
           null,
           null,
           null,
           " SPICES ",
           "[",
           "[",
           null,
           null,
           "CHILI",
           ",",
           null,
           null,
           null,
           " CINNAMON",
           ",",
           null,
           null,
           null,
           " PEPPER",
           ",",
           null,
           null,
           null,
           " CUMIN",
           ",",
           null,
           null,
           null,
           " CLOVE]",
           ",",
           null,
           null,
           null,
           " HYDRDLYZED SOY PROTEIN",
           ",",
           null,
           null,
           null,
           " GREEN ONIONS",
           ",",
           null,
           null,
           null,
           " CITRIC ACID",
           ",",
           null,
           null,
           null,
           " PEANUT OIL",
           ",",
           null,
           null,
           null,
           " SESAME OIL",
           ",",
           null,
           null,
           null,
           " ",
           ":",
           ":",
           null,
           null,
           " NATURAL FLAVOR ",
           ":",
           ":",
           null,
           null,
           " )."
          ],
          0,
          0,
          [],
          [
           "en:rice-noodles",
           "en:dough",
           "en:noodle",
           "en:seasoning-packet",
           "en:rice",
           "en:water",
           "en:peanut",
           "en:nut",
           "en:sugar",
           "en:added-sugar",
           "en:disaccharide",
           "en:salt",
           "en:corn-starch",
           "en:starch",
           "en:spice",
           "en:condiment",
           "en:hydrolysed-soy-protein",
           "en:protein",
           "en:plant-protein",
           "en:hydrolysed-vegetable-protein",
           "en:soy-protein",
           "en:spring-onion",
           "en:vegetable",
           "en:root-vegetable",
           "en:onion-family-vegetable",
           "en:onion",
           "en:e330",
           "en:peanut-oil",
           "en:oil-and-fat",
           "en:vegetable-oil-and-fat",
           "en:vegetable-oil",
           "en:sesame-oil",
           "en:natural-flavouring",
           "en:flavouring",
           "en:chili-pepper",
           "en:fruit-vegetable",
           "en:cinnamon",
           "en:pepper",
           "en:seed",
           "en:cumin",
           "en:clove"
          ],
          [
           "rice-noodles",
           "rice",
           "water",
           "seasoning-packet",
           "peanut",
           "sugar",
           "salt",
           "corn-starch",
           "spices",
           "chili",
           "cinnamon",
           "pepper",
           "cumin",
           "clove",
           "hydrdlyzed-soy-protein",
           "green-onions",
           "citric-acid",
           "peanut-oil",
           "sesame-oil",
           "natural-flavor"
          ],
          "en",
          20,
          [
           "20",
           "11-20"
          ],
          [
           "en:rice-noodles",
           "en:seasoning-packet",
           "en:rice",
           "en:water",
           "en:peanut",
           "en:sugar",
           "en:salt",
           "en:corn-starch",
           "en:spice",
           "en:hydrolysed-soy-protein",
           "en:spring-onion",
           "en:e330",
           "en:peanut-oil",
           "en:sesame-oil",
           "en:natural-flavouring",
           "en:chili-pepper",
           "en:cinnamon",
           "en:pepper",
           "en:cumin",
           "en:clove"
          ],
          1,
          [
           "en:rice-noodles",
           "en:dough",
           "en:noodle",
           "en:seasoning-packet",
           "en:rice",
           "en:water",
           "en:peanut",
           "en:nut",
           "en:sugar",
           "en:added-sugar",
           "en:disaccharide",
           "en:salt",
           "en:corn-starch",
           "en:starch",
           "en:spice",
           "en:condiment",
           "en:hydrolysed-soy-protein",
           "en:protein",
           "en:plant-protein",
           "en:hydrolysed-vegetable-protein",
           "en:soy-protein",
           "en:spring-onion",
           "en:vegetable",
           "en:root-vegetable",
           "en:onion-family-vegetable",
           "en:onion",
           "en:e330",
           "en:peanut-oil",
           "en:oil-and-fat",
           "en:vegetable-oil-and-fat",
           "en:vegetable-oil",
           "en:sesame-oil",
           "en:natural-flavouring",
           "en:flavouring",
           "en:chili-pepper",
           "en:fruit-vegetable",
           "en:cinnamon",
           "en:pepper",
           "en:seed",
           "en:cumin",
           "en:clove"
          ],
          "Rice Noodles (rice, water), seasoning packet (peanut, sugar, salt, corn starch, spices [chili, cinnamon, pepper, cumin, clove], hydrolyzed soy protein, green onions, citric acid, peanut oil, sesame oil, natural flavor).",
          "RICE NOODLES (RICE, WATER), SEASONING PACKET (PEANUT, SUGAR, SALT, CORN STARCH, SPICES [CHILI, CINNAMON, PEPPER, CUMIN, CLOVE], HYDRDLYZED SOY PROTEIN, GREEN ONIONS, CITRIC ACID, PEANUT OIL, SESAME OIL, : NATURAL FLAVOR : ).",
          "Rice Noodles (rice, water), seasoning packet (peanut, sugar, salt, corn starch, spices [chili, cinnamon, pepper, cumin, clove], hydrolyzed soy protein, green onions, citric acid, peanut oil, sesame oil, natural flavor).",
          "Noodle: rice, water. seasoning packet: peanut, sugar, hydrolyzed soy protein, green onion, corn maltodextrin, spice (including paprika), citric acid, sea salt, extractives of paprika (color), silicon dioxide (added to make free flowing), yeast extract.",
          "Rice Noodles (rice, water), seasoning packet (<span class=\"allergen\">peanut</span>, sugar, salt, corn starch, spices [chili, cinnamon, pepper, cumin, clove], hydrolyzed soy protein, green onions, citric acid, peanut oil, sesame oil, natural flavor).",
          "Rice Noodles (rice, water), seasoning packet (<span class=\"allergen\">peanut</span>, sugar, salt, corn starch, spices [chili, cinnamon, pepper, cumin, clove], hydrolyzed soy protein, green onions, citric acid, peanut oil, sesame oil, natural flavor).",
          0,
          [],
          0,
          0,
          17,
          100,
          [
           "en:cinnamon",
           "en:cumin",
           "en:e330",
           "en:natural-flavouring",
           "en:pepper",
           "en:rice-noodles",
           "en:seasoning-packet",
           "en:spice"
          ],
          8,
          "20120622",
          "20190830",
          40,
          "No gluten, Vegetarian, Vegan",
          [
           "en:no-gluten",
           "en:vegetarian",
           "en:vegan"
          ],
          "en",
          "No gluten,Vegetarian,Vegan",
          [
           "en:no-gluten",
           "en:vegetarian",
           "en:vegan"
          ],
          "en",
          [
           6
          ],
          [
           6
          ],
          [
           "en:english"
          ],
          [
           "en:english",
           "en:1"
          ],
          [
           "2024-02-05",
           "2024-02",
           "2024"
          ],
          "foodie-tim",
          [
           "2012-08-24",
           "2012-08",
           "2012"
          ],
          1345799925,
          "foodie-tim",
          1707110670,
          1707515877,
          "en",
          "en",
          "",
          [],
          "",
          [],
          "5",
          [],
          [],
          [
           "en:packagings-number-of-components-2",
           "en:ecoscore-not-computed",
           "en:main-countries-fr-product-name-not-in-country-language",
           "en:main-countries-fr-ingredients-not-in-country-language",
           "en:main-countries-fr-no-data-in-country-language",
           "en:nutriscore-computed",
           "en:nutrition-fruits-vegetables-nuts-estimate-from-ingredients",
           "en:nutrition-all-nutriscore-values-known",
           "en:nutrition-fruits-vegetables-legumes-estimate-from-ingredients",
           "en:nutriscore-2021-different-from-2023",
           "en:nutriscore-2021-better-than-2023",
           "en:nutriscore-2021-c-2023-d",
           "en:packagings-not-complete",
           "en:packagings-not-empty-but-not-complete",
           "en:packagings-not-empty",
           "en:ecoscore-extended-data-not-computed"
          ],
          1,
          "",
          4,
          "",
          "4",
          [
           [
            [
             "ingredients",
             "en:salt"
            ],
            [
             "ingredients",
             "en:starch"
            ],
            [
             "ingredients",
             "en:sugar"
            ],
            [
             "ingredients",
             "en:vegetable-oil"
            ]
           ],
           [
            [
             "ingredients",
             "en:flavouring"
            ]
           ]
          ],
          [
           "en:4-ultra-processed-food-and-drink-products"
          ],
          [],
          [],
          [
           "moderate",
           "moderate",
           "moderate",
           "high"
          ],
          [
           "en:fat-in-moderate-quantity",
           "en:saturated-fat-in-moderate-quantity",
           "en:sugars-in-high-quantity",
           "en:salt-in-moderate-quantity"
          ],
          [
           0.038,
           0.038,
           0.0198,
           "mg",
           38,
           71.15,
           71.15,
           37,
           "g",
           71.15,
           0,
           0,
           0,
           "mg",
           0,
           1611,
           385,
           385,
           200,
           "kcal",
           385,
           396.09,
           1611,
           838,
           "kcal",
           385,
           7.69,
           7.69,
           4,
           "g",
           7.69,
           1.9,
           1.9,
           0.988,
           "g",
           1.9,
           0.54,
           0.54,
           13.04,
           13.04,
           6.9E-4,
           6.9E-4,
           3.59E-4,
           "mg",
           0.69,
           4,
           4,
           4,
           4,
           4,
           9.62,
           9.62,
           5,
           "g",
           9.62,
           0.72,
           0.72,
           0.374,
           "mg",
           720,
           1.92,
           1.92,
           0.998,
           "g",
           1.92,
           0.288,
           0.288,
           0.15,
           "mg",
           288,
           13.46,
           13.46,
           7,
           "g",
           13.46,
           0,
           0,
           0,
           "g",
           0,
           1.155E-4,
           1.155E-4,
           6.01E-5,
           "IU",
           385,
           0,
           0,
           0,
           "mg",
           0
          ],
          [
           [
            1,
            [
             1611,
             4,
             1611,
             1.9,
             1,
             1.9,
             13.04,
             0,
             13,
             0,
             0,
             0,
             0,
             10,
             6,
             9.62,
             5,
             9.62,
             1.92,
             1,
             1.9,
             288,
             3,
             288,
             13.46,
             2,
             13.46
            ],
            "c",
            1,
            1,
            1,
            4
           ],
           [
            1,
            [
             [
              [
               [
                "energy",
                4,
                10,
                "kJ",
                1611.0
               ],
               [
                "sugars",
                3,
                15,
                "g",
                13.46
               ],
               [
                "saturated_fat",
                1,
                10,
                "g",
                1.92
               ],
               [
                "salt",
                3,
                20,
                "g",
                0.72
               ]
              ],
              [
               [
                "fiber",
                0,
                5,
                "g",
                1.9
               ],
               [
                "fruits_vegetables_legumes",
                0,
                5,
                "%",
                0.5
               ]
              ]
             ],
             0,
             "negative_points_greater_than_or_equal_to_11",
             0,
             0,
             0,
             0,
             0,
             11,
             55,
             [
              "fiber",
              "fruits_vegetables_legumes"
             ],
             0,
             10
            ],
            "d",
            1,
            1,
            1,
            11
           ]
          ],
          [
           "c"
          ],
          [
           "d"
          ],
          [
           1611,
           4,
           1611,
           1.9,
           1,
           1.9,
           13.04,
           0,
           13,
           "c",
           0,
           0,
           0,
           0,
           10,
           6,
           9.62,
           5,
           9.62,
           1.92,
           1,
           1.9,
           4,
           288,
           3,
           288,
           13.46,
           2,
           13.46
          ],
          "c",
          4,
          -4,
          [
           "c"
          ],
          "2021",
          "on",
          "100g",
          "100g",
          "",
          "100g",
          "100g",
          "c",
          "c",
          [
           "c"
          ],
          0,
          "",
          1,
          0.54,
          1,
          13.04,
          "",
          "",
          "",
          "",
          "Thailand",
          [
           "en:thailand"
          ],
          "en",
          "Thailand",
          [
           "en:thailand"
          ],
          [],
          "Container, Cellophane",
          [
           "en:container",
           "xx:cellophane"
          ],
          "en",
          [],
          "Container, Cellophane",
          "Cellophane,Carton",
          [],
          [
           "en:Container",
           "xx:cellophane"
          ],
          [
           "en:container",
           "xx:cellophane"
          ],
          "",
          "",
          [
           [
            "xx:cellophane"
           ],
           [
            "en:Container"
           ]
          ],
          0,
          2,
          [
           "andre"
          ],
          [
           "openfoodfacts-contributors",
           "andre"
          ],
          "Cereals and potatoes",
          [
           "cereals-and-potatoes",
           "known"
          ],
          "Cereals",
          [
           "cereals",
           "known"
          ],
          21900000004,
          [
           "bottom-25-percent-scans-2019",
           "bottom-20-percent-scans-2019",
           "top-85-percent-scans-2019",
           "top-90-percent-scans-2019",
           "top-50000-it-scans-2019",
           "top-100000-it-scans-2019",
           "top-country-it-scans-2019",
           "top-100000-scans-2020",
           "at-least-5-scans-2020",
           "top-75-percent-scans-2020",
           "top-80-percent-scans-2020",
           "top-85-percent-scans-2020",
           "top-90-percent-scans-2020",
           "top-10-by-scans-2020",
           "top-50-by-scans-2020",
           "top-100-by-scans-2020",
           "top-500-by-scans-2020",
           "top-1000-by-scans-2020",
           "top-5000-by-scans-2020",
           "top-10000-by-scans-2020",
           "top-50000-by-scans-2020",
           "top-100000-by-scans-2020",
           "top-country-by-scans-2020",
           "top-5000-ca-scans-2020",
           "top-10000-ca-scans-2020",
           "top-50000-ca-scans-2020",
           "top-100000-ca-scans-2020",
           "top-50000-be-scans-2020",
           "top-100000-be-scans-2020",
           "top-100000-scans-2021",
           "at-least-5-scans-2021",
           "top-75-percent-scans-2021",
           "top-80-percent-scans-2021",
           "top-85-percent-scans-2021",
           "top-90-percent-scans-2021",
           "top-5000-it-scans-2021",
           "top-10000-it-scans-2021",
           "top-50000-it-scans-2021",
           "top-100000-it-scans-2021",
           "top-country-it-scans-2021",
           "top-500-ae-scans-2021",
           "top-1000-ae-scans-2021",
           "top-5000-ae-scans-2021",
           "top-10000-ae-scans-2021",
           "top-50000-ae-scans-2021",
           "top-100000-ae-scans-2021",
           "top-5000-us-scans-2021",
           "top-10000-us-scans-2021",
           "top-50000-us-scans-2021",
           "top-100000-us-scans-2021",
           "top-500-in-scans-2021",
           "top-1000-in-scans-2021",
           "top-5000-in-scans-2021",
           "top-10000-in-scans-2021",
           "top-50000-in-scans-2021",
           "top-100000-in-scans-2021",
           "top-100000-scans-2022",
           "top-75-percent-scans-2022",
           "top-80-percent-scans-2022",
           "top-85-percent-scans-2022",
           "top-90-percent-scans-2022",
           "top-500-ca-scans-2022",
           "top-1000-ca-scans-2022",
           "top-5000-ca-scans-2022",
           "top-10000-ca-scans-2022",
           "top-50000-ca-scans-2022",
           "top-100000-ca-scans-2022",
           "top-country-ca-scans-2022",
           "top-50-by-scans-2022",
           "top-100-by-scans-2022",
           "top-500-by-scans-2022",
           "top-1000-by-scans-2022",
           "top-5000-by-scans-2022",
           "top-10000-by-scans-2022",
           "top-50000-by-scans-2022",
           "top-100000-by-scans-2022"
          ],
          "Thai peanut noodle kit includes stir-fry rice noodles & thai peanut seasoning",
          "Thai peanut noodle kit includes stir-fry rice noodles & thai peanut seasoning",
          "Thai peanut noodle kit includes stir-fry rice noodles & thai peanut seasoning",
          "155",
          "g",
          "",
          [],
          "155 g",
          [],
          27,
          10,
          [
           [
            [
             "https://images.openfoodfacts.org/images/products/073/762/806/4502/front_en.6.400.jpg"
            ],
            [
             "https://images.openfoodfacts.org/images/products/073/762/806/4502/front_en.6.200.jpg"
            ],
            [
             "https://images.openfoodfacts.org/images/products/073/762/806/4502/front_en.6.100.jpg"
            ]
           ],
           [
            [
             "https://images.openfoodfacts.org/images/products/073/762/806/4502/ingredients_en.10.400.jpg"
            ],
            [
             "https://images.openfoodfacts.org/images/products/073/762/806/4502/ingredients_en.10.200.jpg"
            ],
            [
             "https://images.openfoodfacts.org/images/products/073/762/806/4502/ingredients_en.10.100.jpg"
            ]
           ],
           [
            [
             "https://images.openfoodfacts.org/images/products/073/762/806/4502/nutrition_en.12.400.jpg"
            ],
            [
             "https://images.openfoodfacts.org/images/products/073/762/806/4502/nutrition_en.12.200.jpg"
            ],
            [
             "https://images.openfoodfacts.org/images/products/073/762/806/4502/nutrition_en.12.100.jpg"
            ]
           ]
          ],
          "52",
          "g",
          "0.333 PACKAGE (52 g)",
          "0.333 PACKAGE (52 g)",
          1587581231,
          [
           [
            [
             "brands",
             "countries"
            ],
            "usda-ndb",
            [],
            1489067409,
            null,
            null,
            "https://api.nal.usda.gov/ndb/reports/?ndbno=45108002&type=f&format=json&api_key=DEMO_KEY"
           ],
           [
            [
             "product_name_en",
             "categories",
             "brand_owner",
             "data_sources",
             "nutrition_data_per",
             "serving_size",
             "ingredients_text_en",
             "nutrients.calcium_unit",
             "nutrients.calcium_value",
             "nutrients.carbohydrates_value",
             "nutrients.cholesterol_unit",
             "nutrients.cholesterol_value",
             "nutrients.energy_value",
             "nutrients.energy-kcal_value",
             "nutrients.fat_value",
             "nutrients.fiber_value",
             "nutrients.iron_unit",
             "nutrients.iron_value",
             "nutrients.proteins_value",
             "nutrients.salt_unit",
             "nutrients.salt_value",
             "nutrients.saturated-fat_value",
             "nutrients.sugars_value",
             "nutrients.trans-fat_unit",
             "nutrients.trans-fat_value",
             "nutrients.vitamin-a_unit",
             "nutrients.vitamin-a_value",
             "nutrients.vitamin-c_unit",
             "nutrients.vitamin-c_value"
            ],
            "database-usda",
            [],
            1587581231,
            null,
            "database-usda",
            null
           ]
          ],
          [
           [
            "2019-09-25T00:00:00Z",
            "All Noodles",
            "LI",
            "628190",
            "2019-09-25T00:00:00Z",
            "2019-12-06T00:00:00Z"
           ]
          ],
          "en:to-be-completed, en:nutrition-facts-completed, en:ingredients-completed, en:expiration-date-to-be-completed, en:packaging-code-to-be-completed, en:characteristics-completed, en:origins-completed, en:categories-completed, en:brands-completed, en:packaging-completed, en:quantity-completed, en:product-name-completed, en:photos-to-be-validated, en:packaging-photo-to-be-selected, en:nutrition-photo-selected, en:ingredients-photo-selected, en:front-photo-selected, en:photos-uploaded",
          [
           "en:to-be-completed",
           "en:nutrition-facts-completed",
           "en:ingredients-completed",
           "en:expiration-date-to-be-completed",
           "en:packaging-code-to-be-completed",
           "en:characteristics-completed",
           "en:origins-completed",
           "en:categories-completed",
           "en:brands-completed",
           "en:packaging-completed",
           "en:quantity-completed",
           "en:product-name-completed",
           "en:photos-to-be-validated",
           "en:packaging-photo-to-be-selected",
           "en:nutrition-photo-selected",
           "en:ingredients-photo-selected",
           "en:front-photo-selected",
           "en:photos-uploaded"
          ],
          [
           "en:to-be-completed",
           "en:nutrition-facts-completed",
           "en:ingredients-completed",
           "en:expiration-date-to-be-completed",
           "en:packaging-code-to-be-completed",
           "en:characteristics-completed",
           "en:origins-completed",
           "en:categories-completed",
           "en:brands-completed",
           "en:packaging-completed",
           "en:quantity-completed",
           "en:product-name-completed",
           "en:photos-to-be-validated",
           "en:packaging-photo-to-be-selected",
           "en:nutrition-photo-selected",
           "en:ingredients-photo-selected",
           "en:front-photo-selected",
           "en:photos-uploaded"
          ],
          "",
          [],
          "stakano,chocolatine",
          [
           "stakano",
           "chocolatine"
          ],
          "en:peanuts",
          "",
          "(en) en:peanuts",
          [
           "en:peanuts"
          ],
          "en",
          [
           "en:peanuts"
          ],
          4,
          1,
          [],
          "20240209",
          [],
          [],
          []
         ],
         1,
         "product found"
        ]
       ],
       "datasetInfos": [],
       "dbfsResultPath": null,
       "isJsonSchema": true,
       "metadata": {},
       "overflow": false,
       "plotOptions": {
        "customPlotOptions": {},
        "displayType": "table",
        "pivotAggregation": null,
        "pivotColumns": null,
        "xColumns": null,
        "yColumns": null
       },
       "removedWidgets": [],
       "schema": [
        {
         "metadata": "{}",
         "name": "code",
         "type": "\"string\""
        },
        {
         "metadata": "{}",
         "name": "product",
         "type": "{\"type\":\"struct\",\"fields\":[{\"name\":\"_id\",\"type\":\"string\",\"nullable\":true,\"metadata\":{}},{\"name\":\"_keywords\",\"type\":{\"type\":\"array\",\"elementType\":\"string\",\"containsNull\":true},\"nullable\":true,\"metadata\":{}},{\"name\":\"added_countries_tags\",\"type\":{\"type\":\"array\",\"elementType\":\"string\",\"containsNull\":true},\"nullable\":true,\"metadata\":{}},{\"name\":\"additives_debug_tags\",\"type\":{\"type\":\"array\",\"elementType\":\"string\",\"containsNull\":true},\"nullable\":true,\"metadata\":{}},{\"name\":\"additives_n\",\"type\":\"long\",\"nullable\":true,\"metadata\":{}},{\"name\":\"additives_old_n\",\"type\":\"long\",\"nullable\":true,\"metadata\":{}},{\"name\":\"additives_old_tags\",\"type\":{\"type\":\"array\",\"elementType\":\"string\",\"containsNull\":true},\"nullable\":true,\"metadata\":{}},{\"name\":\"additives_original_tags\",\"type\":{\"type\":\"array\",\"elementType\":\"string\",\"containsNull\":true},\"nullable\":true,\"metadata\":{}},{\"name\":\"additives_prev_original_tags\",\"type\":{\"type\":\"array\",\"elementType\":\"string\",\"containsNull\":true},\"nullable\":true,\"metadata\":{}},{\"name\":\"additives_tags\",\"type\":{\"type\":\"array\",\"elementType\":\"string\",\"containsNull\":true},\"nullable\":true,\"metadata\":{}},{\"name\":\"allergens\",\"type\":\"string\",\"nullable\":true,\"metadata\":{}},{\"name\":\"allergens_from_ingredients\",\"type\":\"string\",\"nullable\":true,\"metadata\":{}},{\"name\":\"allergens_from_user\",\"type\":\"string\",\"nullable\":true,\"metadata\":{}},{\"name\":\"allergens_hierarchy\",\"type\":{\"type\":\"array\",\"elementType\":\"string\",\"containsNull\":true},\"nullable\":true,\"metadata\":{}},{\"name\":\"allergens_lc\",\"type\":\"string\",\"nullable\":true,\"metadata\":{}},{\"name\":\"allergens_tags\",\"type\":{\"type\":\"array\",\"elementType\":\"string\",\"containsNull\":true},\"nullable\":true,\"metadata\":{}},{\"name\":\"amino_acids_prev_tags\",\"type\":{\"type\":\"array\",\"elementType\":\"string\",\"containsNull\":true},\"nullable\":true,\"metadata\":{}},{\"name\":\"amino_acids_tags\",\"type\":{\"type\":\"array\",\"elementType\":\"string\",\"containsNull\":true},\"nullable\":true,\"metadata\":{}},{\"name\":\"brand_owner\",\"type\":\"string\",\"nullable\":true,\"metadata\":{}},{\"name\":\"brand_owner_imported\",\"type\":\"string\",\"nullable\":true,\"metadata\":{}},{\"name\":\"brands\",\"type\":\"string\",\"nullable\":true,\"metadata\":{}},{\"name\":\"brands_tags\",\"type\":{\"type\":\"array\",\"elementType\":\"string\",\"containsNull\":true},\"nullable\":true,\"metadata\":{}},{\"name\":\"categories\",\"type\":\"string\",\"nullable\":true,\"metadata\":{}},{\"name\":\"categories_hierarchy\",\"type\":{\"type\":\"array\",\"elementType\":\"string\",\"containsNull\":true},\"nullable\":true,\"metadata\":{}},{\"name\":\"categories_imported\",\"type\":\"string\",\"nullable\":true,\"metadata\":{}},{\"name\":\"categories_lc\",\"type\":\"string\",\"nullable\":true,\"metadata\":{}},{\"name\":\"categories_old\",\"type\":\"string\",\"nullable\":true,\"metadata\":{}},{\"name\":\"categories_properties_tags\",\"type\":{\"type\":\"array\",\"elementType\":\"string\",\"containsNull\":true},\"nullable\":true,\"metadata\":{}},{\"name\":\"categories_tags\",\"type\":{\"type\":\"array\",\"elementType\":\"string\",\"containsNull\":true},\"nullable\":true,\"metadata\":{}},{\"name\":\"checkers\",\"type\":{\"type\":\"array\",\"elementType\":\"string\",\"containsNull\":true},\"nullable\":true,\"metadata\":{}},{\"name\":\"checkers_tags\",\"type\":{\"type\":\"array\",\"elementType\":\"string\",\"containsNull\":true},\"nullable\":true,\"metadata\":{}},{\"name\":\"ciqual_food_name_tags\",\"type\":{\"type\":\"array\",\"elementType\":\"string\",\"containsNull\":true},\"nullable\":true,\"metadata\":{}},{\"name\":\"cities_tags\",\"type\":{\"type\":\"array\",\"elementType\":\"string\",\"containsNull\":true},\"nullable\":true,\"metadata\":{}},{\"name\":\"code\",\"type\":\"string\",\"nullable\":true,\"metadata\":{}},{\"name\":\"codes_tags\",\"type\":{\"type\":\"array\",\"elementType\":\"string\",\"containsNull\":true},\"nullable\":true,\"metadata\":{}},{\"name\":\"compared_to_category\",\"type\":\"string\",\"nullable\":true,\"metadata\":{}},{\"name\":\"complete\",\"type\":\"long\",\"nullable\":true,\"metadata\":{}},{\"name\":\"completeness\",\"type\":\"double\",\"nullable\":true,\"metadata\":{}},{\"name\":\"correctors\",\"type\":{\"type\":\"array\",\"elementType\":\"string\",\"containsNull\":true},\"nullable\":true,\"metadata\":{}},{\"name\":\"correctors_tags\",\"type\":{\"type\":\"array\",\"elementType\":\"string\",\"containsNull\":true},\"nullable\":true,\"metadata\":{}},{\"name\":\"countries\",\"type\":\"string\",\"nullable\":true,\"metadata\":{}},{\"name\":\"countries_hierarchy\",\"type\":{\"type\":\"array\",\"elementType\":\"string\",\"containsNull\":true},\"nullable\":true,\"metadata\":{}},{\"name\":\"countries_imported\",\"type\":\"string\",\"nullable\":true,\"metadata\":{}},{\"name\":\"countries_lc\",\"type\":\"string\",\"nullable\":true,\"metadata\":{}},{\"name\":\"countries_tags\",\"type\":{\"type\":\"array\",\"elementType\":\"string\",\"containsNull\":true},\"nullable\":true,\"metadata\":{}},{\"name\":\"created_t\",\"type\":\"long\",\"nullable\":true,\"metadata\":{}},{\"name\":\"creator\",\"type\":\"string\",\"nullable\":true,\"metadata\":{}},{\"name\":\"data_quality_bugs_tags\",\"type\":{\"type\":\"array\",\"elementType\":\"string\",\"containsNull\":true},\"nullable\":true,\"metadata\":{}},{\"name\":\"data_quality_errors_tags\",\"type\":{\"type\":\"array\",\"elementType\":\"string\",\"containsNull\":true},\"nullable\":true,\"metadata\":{}},{\"name\":\"data_quality_info_tags\",\"type\":{\"type\":\"array\",\"elementType\":\"string\",\"containsNull\":true},\"nullable\":true,\"metadata\":{}},{\"name\":\"data_quality_tags\",\"type\":{\"type\":\"array\",\"elementType\":\"string\",\"containsNull\":true},\"nullable\":true,\"metadata\":{}},{\"name\":\"data_quality_warnings_tags\",\"type\":{\"type\":\"array\",\"elementType\":\"string\",\"containsNull\":true},\"nullable\":true,\"metadata\":{}},{\"name\":\"data_sources\",\"type\":\"string\",\"nullable\":true,\"metadata\":{}},{\"name\":\"data_sources_imported\",\"type\":\"string\",\"nullable\":true,\"metadata\":{}},{\"name\":\"data_sources_tags\",\"type\":{\"type\":\"array\",\"elementType\":\"string\",\"containsNull\":true},\"nullable\":true,\"metadata\":{}},{\"name\":\"debug_param_sorted_langs\",\"type\":{\"type\":\"array\",\"elementType\":\"string\",\"containsNull\":true},\"nullable\":true,\"metadata\":{}},{\"name\":\"ecoscore_data\",\"type\":{\"type\":\"struct\",\"fields\":[{\"name\":\"adjustments\",\"type\":{\"type\":\"struct\",\"fields\":[{\"name\":\"origins_of_ingredients\",\"type\":{\"type\":\"struct\",\"fields\":[{\"name\":\"aggregated_origins\",\"type\":{\"type\":\"array\",\"elementType\":{\"type\":\"struct\",\"fields\":[{\"name\":\"epi_score\",\"type\":\"string\",\"nullable\":true,\"metadata\":{}},{\"name\":\"origin\",\"type\":\"string\",\"nullable\":true,\"metadata\":{}},{\"name\":\"percent\",\"type\":\"long\",\"nullable\":true,\"metadata\":{}},{\"name\":\"transportation_score\",\"type\":\"string\",\"nullable\":true,\"metadata\":{}}]},\"containsNull\":true},\"nullable\":true,\"metadata\":{}},{\"name\":\"epi_score\",\"type\":\"long\",\"nullable\":true,\"metadata\":{}},{\"name\":\"epi_value\",\"type\":\"long\",\"nullable\":true,\"metadata\":{}},{\"name\":\"origins_from_categories\",\"type\":{\"type\":\"array\",\"elementType\":\"string\",\"containsNull\":true},\"nullable\":true,\"metadata\":{}},{\"name\":\"origins_from_origins_field\",\"type\":{\"type\":\"array\",\"elementType\":\"string\",\"containsNull\":true},\"nullable\":true,\"metadata\":{}},{\"name\":\"transportation_score\",\"type\":\"long\",\"nullable\":true,\"metadata\":{}},{\"name\":\"transportation_scores\",\"type\":{\"type\":\"struct\",\"fields\":[{\"name\":\"ad\",\"type\":\"long\",\"nullable\":true,\"metadata\":{}},{\"name\":\"al\",\"type\":\"long\",\"nullable\":true,\"metadata\":{}},{\"name\":\"at\",\"type\":\"long\",\"nullable\":true,\"metadata\":{}},{\"name\":\"ax\",\"type\":\"long\",\"nullable\":true,\"metadata\":{}},{\"name\":\"ba\",\"type\":\"long\",\"nullable\":true,\"metadata\":{}},{\"name\":\"be\",\"type\":\"long\",\"nullable\":true,\"metadata\":{}},{\"name\":\"bg\",\"type\":\"long\",\"nullable\":true,\"metadata\":{}},{\"name\":\"ch\",\"type\":\"long\",\"nullable\":true,\"metadata\":{}},{\"name\":\"cy\",\"type\":\"long\",\"nullable\":true,\"metadata\":{}},{\"name\":\"cz\",\"type\":\"long\",\"nullable\":true,\"metadata\":{}},{\"name\":\"de\",\"type\":\"long\",\"nullable\":true,\"metadata\":{}},{\"name\":\"dk\",\"type\":\"long\",\"nullable\":true,\"metadata\":{}},{\"name\":\"dz\",\"type\":\"long\",\"nullable\":true,\"metadata\":{}},{\"name\":\"ee\",\"type\":\"long\",\"nullable\":true,\"metadata\":{}},{\"name\":\"eg\",\"type\":\"long\",\"nullable\":true,\"metadata\":{}},{\"name\":\"es\",\"type\":\"long\",\"nullable\":true,\"metadata\":{}},{\"name\":\"fi\",\"type\":\"long\",\"nullable\":true,\"metadata\":{}},{\"name\":\"fo\",\"type\":\"long\",\"nullable\":true,\"metadata\":{}},{\"name\":\"fr\",\"type\":\"long\",\"nullable\":true,\"metadata\":{}},{\"name\":\"gg\",\"type\":\"long\",\"nullable\":true,\"metadata\":{}},{\"name\":\"gi\",\"type\":\"long\",\"nullable\":true,\"metadata\":{}},{\"name\":\"gr\",\"type\":\"long\",\"nullable\":true,\"metadata\":{}},{\"name\":\"hr\",\"type\":\"long\",\"nullable\":true,\"metadata\":{}},{\"name\":\"hu\",\"type\":\"long\",\"nullable\":true,\"metadata\":{}},{\"name\":\"ie\",\"type\":\"long\",\"nullable\":true,\"metadata\":{}},{\"name\":\"il\",\"type\":\"long\",\"nullable\":true,\"metadata\":{}},{\"name\":\"im\",\"type\":\"long\",\"nullable\":true,\"metadata\":{}},{\"name\":\"is\",\"type\":\"long\",\"nullable\":true,\"metadata\":{}},{\"name\":\"it\",\"type\":\"long\",\"nullable\":true,\"metadata\":{}},{\"name\":\"je\",\"type\":\"long\",\"nullable\":true,\"metadata\":{}},{\"name\":\"lb\",\"type\":\"long\",\"nullable\":true,\"metadata\":{}},{\"name\":\"li\",\"type\":\"long\",\"nullable\":true,\"metadata\":{}},{\"name\":\"lt\",\"type\":\"long\",\"nullable\":true,\"metadata\":{}},{\"name\":\"lu\",\"type\":\"long\",\"nullable\":true,\"metadata\":{}},{\"name\":\"lv\",\"type\":\"long\",\"nullable\":true,\"metadata\":{}},{\"name\":\"ly\",\"type\":\"long\",\"nullable\":true,\"metadata\":{}},{\"name\":\"ma\",\"type\":\"long\",\"nullable\":true,\"metadata\":{}},{\"name\":\"mc\",\"type\":\"long\",\"nullable\":true,\"metadata\":{}},{\"name\":\"md\",\"type\":\"long\",\"nullable\":true,\"metadata\":{}},{\"name\":\"me\",\"type\":\"long\",\"nullable\":true,\"metadata\":{}},{\"name\":\"mk\",\"type\":\"long\",\"nullable\":true,\"metadata\":{}},{\"name\":\"mt\",\"type\":\"long\",\"nullable\":true,\"metadata\":{}},{\"name\":\"nl\",\"type\":\"long\",\"nullable\":true,\"metadata\":{}},{\"name\":\"no\",\"type\":\"long\",\"nullable\":true,\"metadata\":{}},{\"name\":\"pl\",\"type\":\"long\",\"nullable\":true,\"metadata\":{}},{\"name\":\"ps\",\"type\":\"long\",\"nullable\":true,\"metadata\":{}},{\"name\":\"pt\",\"type\":\"long\",\"nullable\":true,\"metadata\":{}},{\"name\":\"ro\",\"type\":\"long\",\"nullable\":true,\"metadata\":{}},{\"name\":\"rs\",\"type\":\"long\",\"nullable\":true,\"metadata\":{}},{\"name\":\"se\",\"type\":\"long\",\"nullable\":true,\"metadata\":{}},{\"name\":\"si\",\"type\":\"long\",\"nullable\":true,\"metadata\":{}},{\"name\":\"sj\",\"type\":\"long\",\"nullable\":true,\"metadata\":{}},{\"name\":\"sk\",\"type\":\"long\",\"nullable\":true,\"metadata\":{}},{\"name\":\"sm\",\"type\":\"long\",\"nullable\":true,\"metadata\":{}},{\"name\":\"sy\",\"type\":\"long\",\"nullable\":true,\"metadata\":{}},{\"name\":\"tn\",\"type\":\"long\",\"nullable\":true,\"metadata\":{}},{\"name\":\"tr\",\"type\":\"long\",\"nullable\":true,\"metadata\":{}},{\"name\":\"ua\",\"type\":\"long\",\"nullable\":true,\"metadata\":{}},{\"name\":\"uk\",\"type\":\"long\",\"nullable\":true,\"metadata\":{}},{\"name\":\"us\",\"type\":\"long\",\"nullable\":true,\"metadata\":{}},{\"name\":\"va\",\"type\":\"long\",\"nullable\":true,\"metadata\":{}},{\"name\":\"world\",\"type\":\"long\",\"nullable\":true,\"metadata\":{}},{\"name\":\"xk\",\"type\":\"long\",\"nullable\":true,\"metadata\":{}}]},\"nullable\":true,\"metadata\":{}},{\"name\":\"transportation_value\",\"type\":\"long\",\"nullable\":true,\"metadata\":{}},{\"name\":\"transportation_values\",\"type\":{\"type\":\"struct\",\"fields\":[{\"name\":\"ad\",\"type\":\"long\",\"nullable\":true,\"metadata\":{}},{\"name\":\"al\",\"type\":\"long\",\"nullable\":true,\"metadata\":{}},{\"name\":\"at\",\"type\":\"long\",\"nullable\":true,\"metadata\":{}},{\"name\":\"ax\",\"type\":\"long\",\"nullable\":true,\"metadata\":{}},{\"name\":\"ba\",\"type\":\"long\",\"nullable\":true,\"metadata\":{}},{\"name\":\"be\",\"type\":\"long\",\"nullable\":true,\"metadata\":{}},{\"name\":\"bg\",\"type\":\"long\",\"nullable\":true,\"metadata\":{}},{\"name\":\"ch\",\"type\":\"long\",\"nullable\":true,\"metadata\":{}},{\"name\":\"cy\",\"type\":\"long\",\"nullable\":true,\"metadata\":{}},{\"name\":\"cz\",\"type\":\"long\",\"nullable\":true,\"metadata\":{}},{\"name\":\"de\",\"type\":\"long\",\"nullable\":true,\"metadata\":{}},{\"name\":\"dk\",\"type\":\"long\",\"nullable\":true,\"metadata\":{}},{\"name\":\"dz\",\"type\":\"long\",\"nullable\":true,\"metadata\":{}},{\"name\":\"ee\",\"type\":\"long\",\"nullable\":true,\"metadata\":{}},{\"name\":\"eg\",\"type\":\"long\",\"nullable\":true,\"metadata\":{}},{\"name\":\"es\",\"type\":\"long\",\"nullable\":true,\"metadata\":{}},{\"name\":\"fi\",\"type\":\"long\",\"nullable\":true,\"metadata\":{}},{\"name\":\"fo\",\"type\":\"long\",\"nullable\":true,\"metadata\":{}},{\"name\":\"fr\",\"type\":\"long\",\"nullable\":true,\"metadata\":{}},{\"name\":\"gg\",\"type\":\"long\",\"nullable\":true,\"metadata\":{}},{\"name\":\"gi\",\"type\":\"long\",\"nullable\":true,\"metadata\":{}},{\"name\":\"gr\",\"type\":\"long\",\"nullable\":true,\"metadata\":{}},{\"name\":\"hr\",\"type\":\"long\",\"nullable\":true,\"metadata\":{}},{\"name\":\"hu\",\"type\":\"long\",\"nullable\":true,\"metadata\":{}},{\"name\":\"ie\",\"type\":\"long\",\"nullable\":true,\"metadata\":{}},{\"name\":\"il\",\"type\":\"long\",\"nullable\":true,\"metadata\":{}},{\"name\":\"im\",\"type\":\"long\",\"nullable\":true,\"metadata\":{}},{\"name\":\"is\",\"type\":\"long\",\"nullable\":true,\"metadata\":{}},{\"name\":\"it\",\"type\":\"long\",\"nullable\":true,\"metadata\":{}},{\"name\":\"je\",\"type\":\"long\",\"nullable\":true,\"metadata\":{}},{\"name\":\"lb\",\"type\":\"long\",\"nullable\":true,\"metadata\":{}},{\"name\":\"li\",\"type\":\"long\",\"nullable\":true,\"metadata\":{}},{\"name\":\"lt\",\"type\":\"long\",\"nullable\":true,\"metadata\":{}},{\"name\":\"lu\",\"type\":\"long\",\"nullable\":true,\"metadata\":{}},{\"name\":\"lv\",\"type\":\"long\",\"nullable\":true,\"metadata\":{}},{\"name\":\"ly\",\"type\":\"long\",\"nullable\":true,\"metadata\":{}},{\"name\":\"ma\",\"type\":\"long\",\"nullable\":true,\"metadata\":{}},{\"name\":\"mc\",\"type\":\"long\",\"nullable\":true,\"metadata\":{}},{\"name\":\"md\",\"type\":\"long\",\"nullable\":true,\"metadata\":{}},{\"name\":\"me\",\"type\":\"long\",\"nullable\":true,\"metadata\":{}},{\"name\":\"mk\",\"type\":\"long\",\"nullable\":true,\"metadata\":{}},{\"name\":\"mt\",\"type\":\"long\",\"nullable\":true,\"metadata\":{}},{\"name\":\"nl\",\"type\":\"long\",\"nullable\":true,\"metadata\":{}},{\"name\":\"no\",\"type\":\"long\",\"nullable\":true,\"metadata\":{}},{\"name\":\"pl\",\"type\":\"long\",\"nullable\":true,\"metadata\":{}},{\"name\":\"ps\",\"type\":\"long\",\"nullable\":true,\"metadata\":{}},{\"name\":\"pt\",\"type\":\"long\",\"nullable\":true,\"metadata\":{}},{\"name\":\"ro\",\"type\":\"long\",\"nullable\":true,\"metadata\":{}},{\"name\":\"rs\",\"type\":\"long\",\"nullable\":true,\"metadata\":{}},{\"name\":\"se\",\"type\":\"long\",\"nullable\":true,\"metadata\":{}},{\"name\":\"si\",\"type\":\"long\",\"nullable\":true,\"metadata\":{}},{\"name\":\"sj\",\"type\":\"long\",\"nullable\":true,\"metadata\":{}},{\"name\":\"sk\",\"type\":\"long\",\"nullable\":true,\"metadata\":{}},{\"name\":\"sm\",\"type\":\"long\",\"nullable\":true,\"metadata\":{}},{\"name\":\"sy\",\"type\":\"long\",\"nullable\":true,\"metadata\":{}},{\"name\":\"tn\",\"type\":\"long\",\"nullable\":true,\"metadata\":{}},{\"name\":\"tr\",\"type\":\"long\",\"nullable\":true,\"metadata\":{}},{\"name\":\"ua\",\"type\":\"long\",\"nullable\":true,\"metadata\":{}},{\"name\":\"uk\",\"type\":\"long\",\"nullable\":true,\"metadata\":{}},{\"name\":\"us\",\"type\":\"long\",\"nullable\":true,\"metadata\":{}},{\"name\":\"va\",\"type\":\"long\",\"nullable\":true,\"metadata\":{}},{\"name\":\"world\",\"type\":\"long\",\"nullable\":true,\"metadata\":{}},{\"name\":\"xk\",\"type\":\"long\",\"nullable\":true,\"metadata\":{}}]},\"nullable\":true,\"metadata\":{}},{\"name\":\"value\",\"type\":\"long\",\"nullable\":true,\"metadata\":{}},{\"name\":\"values\",\"type\":{\"type\":\"struct\",\"fields\":[{\"name\":\"ad\",\"type\":\"long\",\"nullable\":true,\"metadata\":{}},{\"name\":\"al\",\"type\":\"long\",\"nullable\":true,\"metadata\":{}},{\"name\":\"at\",\"type\":\"long\",\"nullable\":true,\"metadata\":{}},{\"name\":\"ax\",\"type\":\"long\",\"nullable\":true,\"metadata\":{}},{\"name\":\"ba\",\"type\":\"long\",\"nullable\":true,\"metadata\":{}},{\"name\":\"be\",\"type\":\"long\",\"nullable\":true,\"metadata\":{}},{\"name\":\"bg\",\"type\":\"long\",\"nullable\":true,\"metadata\":{}},{\"name\":\"ch\",\"type\":\"long\",\"nullable\":true,\"metadata\":{}},{\"name\":\"cy\",\"type\":\"long\",\"nullable\":true,\"metadata\":{}},{\"name\":\"cz\",\"type\":\"long\",\"nullable\":true,\"metadata\":{}},{\"name\":\"de\",\"type\":\"long\",\"nullable\":true,\"metadata\":{}},{\"name\":\"dk\",\"type\":\"long\",\"nullable\":true,\"metadata\":{}},{\"name\":\"dz\",\"type\":\"long\",\"nullable\":true,\"metadata\":{}},{\"name\":\"ee\",\"type\":\"long\",\"nullable\":true,\"metadata\":{}},{\"name\":\"eg\",\"type\":\"long\",\"nullable\":true,\"metadata\":{}},{\"name\":\"es\",\"type\":\"long\",\"nullable\":true,\"metadata\":{}},{\"name\":\"fi\",\"type\":\"long\",\"nullable\":true,\"metadata\":{}},{\"name\":\"fo\",\"type\":\"long\",\"nullable\":true,\"metadata\":{}},{\"name\":\"fr\",\"type\":\"long\",\"nullable\":true,\"metadata\":{}},{\"name\":\"gg\",\"type\":\"long\",\"nullable\":true,\"metadata\":{}},{\"name\":\"gi\",\"type\":\"long\",\"nullable\":true,\"metadata\":{}},{\"name\":\"gr\",\"type\":\"long\",\"nullable\":true,\"metadata\":{}},{\"name\":\"hr\",\"type\":\"long\",\"nullable\":true,\"metadata\":{}},{\"name\":\"hu\",\"type\":\"long\",\"nullable\":true,\"metadata\":{}},{\"name\":\"ie\",\"type\":\"long\",\"nullable\":true,\"metadata\":{}},{\"name\":\"il\",\"type\":\"long\",\"nullable\":true,\"metadata\":{}},{\"name\":\"im\",\"type\":\"long\",\"nullable\":true,\"metadata\":{}},{\"name\":\"is\",\"type\":\"long\",\"nullable\":true,\"metadata\":{}},{\"name\":\"it\",\"type\":\"long\",\"nullable\":true,\"metadata\":{}},{\"name\":\"je\",\"type\":\"long\",\"nullable\":true,\"metadata\":{}},{\"name\":\"lb\",\"type\":\"long\",\"nullable\":true,\"metadata\":{}},{\"name\":\"li\",\"type\":\"long\",\"nullable\":true,\"metadata\":{}},{\"name\":\"lt\",\"type\":\"long\",\"nullable\":true,\"metadata\":{}},{\"name\":\"lu\",\"type\":\"long\",\"nullable\":true,\"metadata\":{}},{\"name\":\"lv\",\"type\":\"long\",\"nullable\":true,\"metadata\":{}},{\"name\":\"ly\",\"type\":\"long\",\"nullable\":true,\"metadata\":{}},{\"name\":\"ma\",\"type\":\"long\",\"nullable\":true,\"metadata\":{}},{\"name\":\"mc\",\"type\":\"long\",\"nullable\":true,\"metadata\":{}},{\"name\":\"md\",\"type\":\"long\",\"nullable\":true,\"metadata\":{}},{\"name\":\"me\",\"type\":\"long\",\"nullable\":true,\"metadata\":{}},{\"name\":\"mk\",\"type\":\"long\",\"nullable\":true,\"metadata\":{}},{\"name\":\"mt\",\"type\":\"long\",\"nullable\":true,\"metadata\":{}},{\"name\":\"nl\",\"type\":\"long\",\"nullable\":true,\"metadata\":{}},{\"name\":\"no\",\"type\":\"long\",\"nullable\":true,\"metadata\":{}},{\"name\":\"pl\",\"type\":\"long\",\"nullable\":true,\"metadata\":{}},{\"name\":\"ps\",\"type\":\"long\",\"nullable\":true,\"metadata\":{}},{\"name\":\"pt\",\"type\":\"long\",\"nullable\":true,\"metadata\":{}},{\"name\":\"ro\",\"type\":\"long\",\"nullable\":true,\"metadata\":{}},{\"name\":\"rs\",\"type\":\"long\",\"nullable\":true,\"metadata\":{}},{\"name\":\"se\",\"type\":\"long\",\"nullable\":true,\"metadata\":{}},{\"name\":\"si\",\"type\":\"long\",\"nullable\":true,\"metadata\":{}},{\"name\":\"sj\",\"type\":\"long\",\"nullable\":true,\"metadata\":{}},{\"name\":\"sk\",\"type\":\"long\",\"nullable\":true,\"metadata\":{}},{\"name\":\"sm\",\"type\":\"long\",\"nullable\":true,\"metadata\":{}},{\"name\":\"sy\",\"type\":\"long\",\"nullable\":true,\"metadata\":{}},{\"name\":\"tn\",\"type\":\"long\",\"nullable\":true,\"metadata\":{}},{\"name\":\"tr\",\"type\":\"long\",\"nullable\":true,\"metadata\":{}},{\"name\":\"ua\",\"type\":\"long\",\"nullable\":true,\"metadata\":{}},{\"name\":\"uk\",\"type\":\"long\",\"nullable\":true,\"metadata\":{}},{\"name\":\"us\",\"type\":\"long\",\"nullable\":true,\"metadata\":{}},{\"name\":\"va\",\"type\":\"long\",\"nullable\":true,\"metadata\":{}},{\"name\":\"world\",\"type\":\"long\",\"nullable\":true,\"metadata\":{}},{\"name\":\"xk\",\"type\":\"long\",\"nullable\":true,\"metadata\":{}}]},\"nullable\":true,\"metadata\":{}}]},\"nullable\":true,\"metadata\":{}},{\"name\":\"packaging\",\"type\":{\"type\":\"struct\",\"fields\":[{\"name\":\"non_recyclable_and_non_biodegradable_materials\",\"type\":\"long\",\"nullable\":true,\"metadata\":{}},{\"name\":\"packagings\",\"type\":{\"type\":\"array\",\"elementType\":{\"type\":\"struct\",\"fields\":[{\"name\":\"ecoscore_material_score\",\"type\":\"long\",\"nullable\":true,\"metadata\":{}},{\"name\":\"ecoscore_shape_ratio\",\"type\":\"long\",\"nullable\":true,\"metadata\":{}},{\"name\":\"material\",\"type\":\"string\",\"nullable\":true,\"metadata\":{}},{\"name\":\"shape\",\"type\":\"string\",\"nullable\":true,\"metadata\":{}}]},\"containsNull\":true},\"nullable\":true,\"metadata\":{}},{\"name\":\"score\",\"type\":\"long\",\"nullable\":true,\"metadata\":{}},{\"name\":\"value\",\"type\":\"long\",\"nullable\":true,\"metadata\":{}},{\"name\":\"warning\",\"type\":\"string\",\"nullable\":true,\"metadata\":{}}]},\"nullable\":true,\"metadata\":{}},{\"name\":\"production_system\",\"type\":{\"type\":\"struct\",\"fields\":[{\"name\":\"labels\",\"type\":{\"type\":\"array\",\"elementType\":\"string\",\"containsNull\":true},\"nullable\":true,\"metadata\":{}},{\"name\":\"value\",\"type\":\"long\",\"nullable\":true,\"metadata\":{}},{\"name\":\"warning\",\"type\":\"string\",\"nullable\":true,\"metadata\":{}}]},\"nullable\":true,\"metadata\":{}}]},\"nullable\":true,\"metadata\":{}},{\"name\":\"agribalyse\",\"type\":{\"type\":\"struct\",\"fields\":[{\"name\":\"warning\",\"type\":\"string\",\"nullable\":true,\"metadata\":{}}]},\"nullable\":true,\"metadata\":{}},{\"name\":\"missing\",\"type\":{\"type\":\"struct\",\"fields\":[{\"name\":\"agb_category\",\"type\":\"long\",\"nullable\":true,\"metadata\":{}},{\"name\":\"labels\",\"type\":\"long\",\"nullable\":true,\"metadata\":{}},{\"name\":\"packagings\",\"type\":\"long\",\"nullable\":true,\"metadata\":{}}]},\"nullable\":true,\"metadata\":{}},{\"name\":\"missing_agribalyse_match_warning\",\"type\":\"long\",\"nullable\":true,\"metadata\":{}},{\"name\":\"status\",\"type\":\"string\",\"nullable\":true,\"metadata\":{}}]},\"nullable\":true,\"metadata\":{}},{\"name\":\"ecoscore_grade\",\"type\":\"string\",\"nullable\":true,\"metadata\":{}},{\"name\":\"ecoscore_tags\",\"type\":{\"type\":\"array\",\"elementType\":\"string\",\"containsNull\":true},\"nullable\":true,\"metadata\":{}},{\"name\":\"editors\",\"type\":{\"type\":\"array\",\"elementType\":\"string\",\"containsNull\":true},\"nullable\":true,\"metadata\":{}},{\"name\":\"editors_tags\",\"type\":{\"type\":\"array\",\"elementType\":\"string\",\"containsNull\":true},\"nullable\":true,\"metadata\":{}},{\"name\":\"emb_codes\",\"type\":\"string\",\"nullable\":true,\"metadata\":{}},{\"name\":\"emb_codes_20141016\",\"type\":\"string\",\"nullable\":true,\"metadata\":{}},{\"name\":\"emb_codes_orig\",\"type\":\"string\",\"nullable\":true,\"metadata\":{}},{\"name\":\"emb_codes_tags\",\"type\":{\"type\":\"array\",\"elementType\":\"string\",\"containsNull\":true},\"nullable\":true,\"metadata\":{}},{\"name\":\"entry_dates_tags\",\"type\":{\"type\":\"array\",\"elementType\":\"string\",\"containsNull\":true},\"nullable\":true,\"metadata\":{}},{\"name\":\"expiration_date\",\"type\":\"string\",\"nullable\":true,\"metadata\":{}},{\"name\":\"food_groups\",\"type\":\"string\",\"nullable\":true,\"metadata\":{}},{\"name\":\"food_groups_tags\",\"type\":{\"type\":\"array\",\"elementType\":\"string\",\"containsNull\":true},\"nullable\":true,\"metadata\":{}},{\"name\":\"fruits-vegetables-nuts_100g_estimate\",\"type\":\"long\",\"nullable\":true,\"metadata\":{}},{\"name\":\"generic_name\",\"type\":\"string\",\"nullable\":true,\"metadata\":{}},{\"name\":\"generic_name_en\",\"type\":\"string\",\"nullable\":true,\"metadata\":{}},{\"name\":\"id\",\"type\":\"string\",\"nullable\":true,\"metadata\":{}},{\"name\":\"image_front_small_url\",\"type\":\"string\",\"nullable\":true,\"metadata\":{}},{\"name\":\"image_front_thumb_url\",\"type\":\"string\",\"nullable\":true,\"metadata\":{}},{\"name\":\"image_front_url\",\"type\":\"string\",\"nullable\":true,\"metadata\":{}},{\"name\":\"image_ingredients_small_url\",\"type\":\"string\",\"nullable\":true,\"metadata\":{}},{\"name\":\"image_ingredients_thumb_url\",\"type\":\"string\",\"nullable\":true,\"metadata\":{}},{\"name\":\"image_ingredients_url\",\"type\":\"string\",\"nullable\":true,\"metadata\":{}},{\"name\":\"image_nutrition_small_url\",\"type\":\"string\",\"nullable\":true,\"metadata\":{}},{\"name\":\"image_nutrition_thumb_url\",\"type\":\"string\",\"nullable\":true,\"metadata\":{}},{\"name\":\"image_nutrition_url\",\"type\":\"string\",\"nullable\":true,\"metadata\":{}},{\"name\":\"image_small_url\",\"type\":\"string\",\"nullable\":true,\"metadata\":{}},{\"name\":\"image_thumb_url\",\"type\":\"string\",\"nullable\":true,\"metadata\":{}},{\"name\":\"image_url\",\"type\":\"string\",\"nullable\":true,\"metadata\":{}},{\"name\":\"images\",\"type\":{\"type\":\"struct\",\"fields\":[{\"name\":\"1\",\"type\":{\"type\":\"struct\",\"fields\":[{\"name\":\"sizes\",\"type\":{\"type\":\"struct\",\"fields\":[{\"name\":\"100\",\"type\":{\"type\":\"struct\",\"fields\":[{\"name\":\"h\",\"type\":\"long\",\"nullable\":true,\"metadata\":{}},{\"name\":\"w\",\"type\":\"long\",\"nullable\":true,\"metadata\":{}}]},\"nullable\":true,\"metadata\":{}},{\"name\":\"400\",\"type\":{\"type\":\"struct\",\"fields\":[{\"name\":\"h\",\"type\":\"long\",\"nullable\":true,\"metadata\":{}},{\"name\":\"w\",\"type\":\"long\",\"nullable\":true,\"metadata\":{}}]},\"nullable\":true,\"metadata\":{}},{\"name\":\"full\",\"type\":{\"type\":\"struct\",\"fields\":[{\"name\":\"h\",\"type\":\"long\",\"nullable\":true,\"metadata\":{}},{\"name\":\"w\",\"type\":\"long\",\"nullable\":true,\"metadata\":{}}]},\"nullable\":true,\"metadata\":{}}]},\"nullable\":true,\"metadata\":{}},{\"name\":\"uploaded_t\",\"type\":\"long\",\"nullable\":true,\"metadata\":{}},{\"name\":\"uploader\",\"type\":\"string\",\"nullable\":true,\"metadata\":{}}]},\"nullable\":true,\"metadata\":{}},{\"name\":\"2\",\"type\":{\"type\":\"struct\",\"fields\":[{\"name\":\"sizes\",\"type\":{\"type\":\"struct\",\"fields\":[{\"name\":\"100\",\"type\":{\"type\":\"struct\",\"fields\":[{\"name\":\"h\",\"type\":\"long\",\"nullable\":true,\"metadata\":{}},{\"name\":\"w\",\"type\":\"long\",\"nullable\":true,\"metadata\":{}}]},\"nullable\":true,\"metadata\":{}},{\"name\":\"400\",\"type\":{\"type\":\"struct\",\"fields\":[{\"name\":\"h\",\"type\":\"long\",\"nullable\":true,\"metadata\":{}},{\"name\":\"w\",\"type\":\"long\",\"nullable\":true,\"metadata\":{}}]},\"nullable\":true,\"metadata\":{}},{\"name\":\"full\",\"type\":{\"type\":\"struct\",\"fields\":[{\"name\":\"h\",\"type\":\"long\",\"nullable\":true,\"metadata\":{}},{\"name\":\"w\",\"type\":\"long\",\"nullable\":true,\"metadata\":{}}]},\"nullable\":true,\"metadata\":{}}]},\"nullable\":true,\"metadata\":{}},{\"name\":\"uploaded_t\",\"type\":\"long\",\"nullable\":true,\"metadata\":{}},{\"name\":\"uploader\",\"type\":\"string\",\"nullable\":true,\"metadata\":{}}]},\"nullable\":true,\"metadata\":{}},{\"name\":\"3\",\"type\":{\"type\":\"struct\",\"fields\":[{\"name\":\"sizes\",\"type\":{\"type\":\"struct\",\"fields\":[{\"name\":\"100\",\"type\":{\"type\":\"struct\",\"fields\":[{\"name\":\"h\",\"type\":\"long\",\"nullable\":true,\"metadata\":{}},{\"name\":\"w\",\"type\":\"long\",\"nullable\":true,\"metadata\":{}}]},\"nullable\":true,\"metadata\":{}},{\"name\":\"400\",\"type\":{\"type\":\"struct\",\"fields\":[{\"name\":\"h\",\"type\":\"long\",\"nullable\":true,\"metadata\":{}},{\"name\":\"w\",\"type\":\"long\",\"nullable\":true,\"metadata\":{}}]},\"nullable\":true,\"metadata\":{}},{\"name\":\"full\",\"type\":{\"type\":\"struct\",\"fields\":[{\"name\":\"h\",\"type\":\"long\",\"nullable\":true,\"metadata\":{}},{\"name\":\"w\",\"type\":\"long\",\"nullable\":true,\"metadata\":{}}]},\"nullable\":true,\"metadata\":{}}]},\"nullable\":true,\"metadata\":{}},{\"name\":\"uploaded_t\",\"type\":\"long\",\"nullable\":true,\"metadata\":{}},{\"name\":\"uploader\",\"type\":\"string\",\"nullable\":true,\"metadata\":{}}]},\"nullable\":true,\"metadata\":{}},{\"name\":\"4\",\"type\":{\"type\":\"struct\",\"fields\":[{\"name\":\"sizes\",\"type\":{\"type\":\"struct\",\"fields\":[{\"name\":\"100\",\"type\":{\"type\":\"struct\",\"fields\":[{\"name\":\"h\",\"type\":\"long\",\"nullable\":true,\"metadata\":{}},{\"name\":\"w\",\"type\":\"long\",\"nullable\":true,\"metadata\":{}}]},\"nullable\":true,\"metadata\":{}},{\"name\":\"400\",\"type\":{\"type\":\"struct\",\"fields\":[{\"name\":\"h\",\"type\":\"long\",\"nullable\":true,\"metadata\":{}},{\"name\":\"w\",\"type\":\"long\",\"nullable\":true,\"metadata\":{}}]},\"nullable\":true,\"metadata\":{}},{\"name\":\"full\",\"type\":{\"type\":\"struct\",\"fields\":[{\"name\":\"h\",\"type\":\"long\",\"nullable\":true,\"metadata\":{}},{\"name\":\"w\",\"type\":\"long\",\"nullable\":true,\"metadata\":{}}]},\"nullable\":true,\"metadata\":{}}]},\"nullable\":true,\"metadata\":{}},{\"name\":\"uploaded_t\",\"type\":\"long\",\"nullable\":true,\"metadata\":{}},{\"name\":\"uploader\",\"type\":\"string\",\"nullable\":true,\"metadata\":{}}]},\"nullable\":true,\"metadata\":{}},{\"name\":\"5\",\"type\":{\"type\":\"struct\",\"fields\":[{\"name\":\"sizes\",\"type\":{\"type\":\"struct\",\"fields\":[{\"name\":\"100\",\"type\":{\"type\":\"struct\",\"fields\":[{\"name\":\"h\",\"type\":\"long\",\"nullable\":true,\"metadata\":{}},{\"name\":\"w\",\"type\":\"long\",\"nullable\":true,\"metadata\":{}}]},\"nullable\":true,\"metadata\":{}},{\"name\":\"400\",\"type\":{\"type\":\"struct\",\"fields\":[{\"name\":\"h\",\"type\":\"long\",\"nullable\":true,\"metadata\":{}},{\"name\":\"w\",\"type\":\"long\",\"nullable\":true,\"metadata\":{}}]},\"nullable\":true,\"metadata\":{}},{\"name\":\"full\",\"type\":{\"type\":\"struct\",\"fields\":[{\"name\":\"h\",\"type\":\"long\",\"nullable\":true,\"metadata\":{}},{\"name\":\"w\",\"type\":\"long\",\"nullable\":true,\"metadata\":{}}]},\"nullable\":true,\"metadata\":{}}]},\"nullable\":true,\"metadata\":{}},{\"name\":\"uploaded_t\",\"type\":\"long\",\"nullable\":true,\"metadata\":{}},{\"name\":\"uploader\",\"type\":\"string\",\"nullable\":true,\"metadata\":{}}]},\"nullable\":true,\"metadata\":{}},{\"name\":\"front\",\"type\":{\"type\":\"struct\",\"fields\":[{\"name\":\"geometry\",\"type\":\"string\",\"nullable\":true,\"metadata\":{}},{\"name\":\"imgid\",\"type\":\"string\",\"nullable\":true,\"metadata\":{}},{\"name\":\"normalize\",\"type\":\"string\",\"nullable\":true,\"metadata\":{}},{\"name\":\"rev\",\"type\":\"string\",\"nullable\":true,\"metadata\":{}},{\"name\":\"sizes\",\"type\":{\"type\":\"struct\",\"fields\":[{\"name\":\"100\",\"type\":{\"type\":\"struct\",\"fields\":[{\"name\":\"h\",\"type\":\"long\",\"nullable\":true,\"metadata\":{}},{\"name\":\"w\",\"type\":\"long\",\"nullable\":true,\"metadata\":{}}]},\"nullable\":true,\"metadata\":{}},{\"name\":\"200\",\"type\":{\"type\":\"struct\",\"fields\":[{\"name\":\"h\",\"type\":\"long\",\"nullable\":true,\"metadata\":{}},{\"name\":\"w\",\"type\":\"long\",\"nullable\":true,\"metadata\":{}}]},\"nullable\":true,\"metadata\":{}},{\"name\":\"400\",\"type\":{\"type\":\"struct\",\"fields\":[{\"name\":\"h\",\"type\":\"long\",\"nullable\":true,\"metadata\":{}},{\"name\":\"w\",\"type\":\"long\",\"nullable\":true,\"metadata\":{}}]},\"nullable\":true,\"metadata\":{}},{\"name\":\"full\",\"type\":{\"type\":\"struct\",\"fields\":[{\"name\":\"h\",\"type\":\"long\",\"nullable\":true,\"metadata\":{}},{\"name\":\"w\",\"type\":\"long\",\"nullable\":true,\"metadata\":{}}]},\"nullable\":true,\"metadata\":{}}]},\"nullable\":true,\"metadata\":{}},{\"name\":\"white_magic\",\"type\":\"string\",\"nullable\":true,\"metadata\":{}}]},\"nullable\":true,\"metadata\":{}},{\"name\":\"front_en\",\"type\":{\"type\":\"struct\",\"fields\":[{\"name\":\"geometry\",\"type\":\"string\",\"nullable\":true,\"metadata\":{}},{\"name\":\"imgid\",\"type\":\"string\",\"nullable\":true,\"metadata\":{}},{\"name\":\"normalize\",\"type\":\"string\",\"nullable\":true,\"metadata\":{}},{\"name\":\"rev\",\"type\":\"string\",\"nullable\":true,\"metadata\":{}},{\"name\":\"sizes\",\"type\":{\"type\":\"struct\",\"fields\":[{\"name\":\"100\",\"type\":{\"type\":\"struct\",\"fields\":[{\"name\":\"h\",\"type\":\"long\",\"nullable\":true,\"metadata\":{}},{\"name\":\"w\",\"type\":\"long\",\"nullable\":true,\"metadata\":{}}]},\"nullable\":true,\"metadata\":{}},{\"name\":\"200\",\"type\":{\"type\":\"struct\",\"fields\":[{\"name\":\"h\",\"type\":\"long\",\"nullable\":true,\"metadata\":{}},{\"name\":\"w\",\"type\":\"long\",\"nullable\":true,\"metadata\":{}}]},\"nullable\":true,\"metadata\":{}},{\"name\":\"400\",\"type\":{\"type\":\"struct\",\"fields\":[{\"name\":\"h\",\"type\":\"long\",\"nullable\":true,\"metadata\":{}},{\"name\":\"w\",\"type\":\"long\",\"nullable\":true,\"metadata\":{}}]},\"nullable\":true,\"metadata\":{}},{\"name\":\"full\",\"type\":{\"type\":\"struct\",\"fields\":[{\"name\":\"h\",\"type\":\"long\",\"nullable\":true,\"metadata\":{}},{\"name\":\"w\",\"type\":\"long\",\"nullable\":true,\"metadata\":{}}]},\"nullable\":true,\"metadata\":{}}]},\"nullable\":true,\"metadata\":{}},{\"name\":\"white_magic\",\"type\":\"string\",\"nullable\":true,\"metadata\":{}}]},\"nullable\":true,\"metadata\":{}},{\"name\":\"ingredients\",\"type\":{\"type\":\"struct\",\"fields\":[{\"name\":\"geometry\",\"type\":\"string\",\"nullable\":true,\"metadata\":{}},{\"name\":\"imgid\",\"type\":\"string\",\"nullable\":true,\"metadata\":{}},{\"name\":\"normalize\",\"type\":\"string\",\"nullable\":true,\"metadata\":{}},{\"name\":\"rev\",\"type\":\"string\",\"nullable\":true,\"metadata\":{}},{\"name\":\"sizes\",\"type\":{\"type\":\"struct\",\"fields\":[{\"name\":\"100\",\"type\":{\"type\":\"struct\",\"fields\":[{\"name\":\"h\",\"type\":\"long\",\"nullable\":true,\"metadata\":{}},{\"name\":\"w\",\"type\":\"long\",\"nullable\":true,\"metadata\":{}}]},\"nullable\":true,\"metadata\":{}},{\"name\":\"200\",\"type\":{\"type\":\"struct\",\"fields\":[{\"name\":\"h\",\"type\":\"long\",\"nullable\":true,\"metadata\":{}},{\"name\":\"w\",\"type\":\"long\",\"nullable\":true,\"metadata\":{}}]},\"nullable\":true,\"metadata\":{}},{\"name\":\"400\",\"type\":{\"type\":\"struct\",\"fields\":[{\"name\":\"h\",\"type\":\"long\",\"nullable\":true,\"metadata\":{}},{\"name\":\"w\",\"type\":\"long\",\"nullable\":true,\"metadata\":{}}]},\"nullable\":true,\"metadata\":{}},{\"name\":\"full\",\"type\":{\"type\":\"struct\",\"fields\":[{\"name\":\"h\",\"type\":\"long\",\"nullable\":true,\"metadata\":{}},{\"name\":\"w\",\"type\":\"long\",\"nullable\":true,\"metadata\":{}}]},\"nullable\":true,\"metadata\":{}}]},\"nullable\":true,\"metadata\":{}},{\"name\":\"white_magic\",\"type\":\"string\",\"nullable\":true,\"metadata\":{}}]},\"nullable\":true,\"metadata\":{}},{\"name\":\"ingredients_en\",\"type\":{\"type\":\"struct\",\"fields\":[{\"name\":\"geometry\",\"type\":\"string\",\"nullable\":true,\"metadata\":{}},{\"name\":\"imgid\",\"type\":\"string\",\"nullable\":true,\"metadata\":{}},{\"name\":\"normalize\",\"type\":\"string\",\"nullable\":true,\"metadata\":{}},{\"name\":\"rev\",\"type\":\"string\",\"nullable\":true,\"metadata\":{}},{\"name\":\"sizes\",\"type\":{\"type\":\"struct\",\"fields\":[{\"name\":\"100\",\"type\":{\"type\":\"struct\",\"fields\":[{\"name\":\"h\",\"type\":\"long\",\"nullable\":true,\"metadata\":{}},{\"name\":\"w\",\"type\":\"long\",\"nullable\":true,\"metadata\":{}}]},\"nullable\":true,\"metadata\":{}},{\"name\":\"200\",\"type\":{\"type\":\"struct\",\"fields\":[{\"name\":\"h\",\"type\":\"long\",\"nullable\":true,\"metadata\":{}},{\"name\":\"w\",\"type\":\"long\",\"nullable\":true,\"metadata\":{}}]},\"nullable\":true,\"metadata\":{}},{\"name\":\"400\",\"type\":{\"type\":\"struct\",\"fields\":[{\"name\":\"h\",\"type\":\"long\",\"nullable\":true,\"metadata\":{}},{\"name\":\"w\",\"type\":\"long\",\"nullable\":true,\"metadata\":{}}]},\"nullable\":true,\"metadata\":{}},{\"name\":\"full\",\"type\":{\"type\":\"struct\",\"fields\":[{\"name\":\"h\",\"type\":\"long\",\"nullable\":true,\"metadata\":{}},{\"name\":\"w\",\"type\":\"long\",\"nullable\":true,\"metadata\":{}}]},\"nullable\":true,\"metadata\":{}}]},\"nullable\":true,\"metadata\":{}},{\"name\":\"white_magic\",\"type\":\"string\",\"nullable\":true,\"metadata\":{}}]},\"nullable\":true,\"metadata\":{}},{\"name\":\"nutrition\",\"type\":{\"type\":\"struct\",\"fields\":[{\"name\":\"geometry\",\"type\":\"string\",\"nullable\":true,\"metadata\":{}},{\"name\":\"imgid\",\"type\":\"string\",\"nullable\":true,\"metadata\":{}},{\"name\":\"normalize\",\"type\":\"string\",\"nullable\":true,\"metadata\":{}},{\"name\":\"rev\",\"type\":\"string\",\"nullable\":true,\"metadata\":{}},{\"name\":\"sizes\",\"type\":{\"type\":\"struct\",\"fields\":[{\"name\":\"100\",\"type\":{\"type\":\"struct\",\"fields\":[{\"name\":\"h\",\"type\":\"long\",\"nullable\":true,\"metadata\":{}},{\"name\":\"w\",\"type\":\"long\",\"nullable\":true,\"metadata\":{}}]},\"nullable\":true,\"metadata\":{}},{\"name\":\"200\",\"type\":{\"type\":\"struct\",\"fields\":[{\"name\":\"h\",\"type\":\"long\",\"nullable\":true,\"metadata\":{}},{\"name\":\"w\",\"type\":\"long\",\"nullable\":true,\"metadata\":{}}]},\"nullable\":true,\"metadata\":{}},{\"name\":\"400\",\"type\":{\"type\":\"struct\",\"fields\":[{\"name\":\"h\",\"type\":\"long\",\"nullable\":true,\"metadata\":{}},{\"name\":\"w\",\"type\":\"long\",\"nullable\":true,\"metadata\":{}}]},\"nullable\":true,\"metadata\":{}},{\"name\":\"full\",\"type\":{\"type\":\"struct\",\"fields\":[{\"name\":\"h\",\"type\":\"long\",\"nullable\":true,\"metadata\":{}},{\"name\":\"w\",\"type\":\"long\",\"nullable\":true,\"metadata\":{}}]},\"nullable\":true,\"metadata\":{}}]},\"nullable\":true,\"metadata\":{}},{\"name\":\"white_magic\",\"type\":\"string\",\"nullable\":true,\"metadata\":{}}]},\"nullable\":true,\"metadata\":{}},{\"name\":\"nutrition_en\",\"type\":{\"type\":\"struct\",\"fields\":[{\"name\":\"geometry\",\"type\":\"string\",\"nullable\":true,\"metadata\":{}},{\"name\":\"imgid\",\"type\":\"string\",\"nullable\":true,\"metadata\":{}},{\"name\":\"normalize\",\"type\":\"string\",\"nullable\":true,\"metadata\":{}},{\"name\":\"rev\",\"type\":\"string\",\"nullable\":true,\"metadata\":{}},{\"name\":\"sizes\",\"type\":{\"type\":\"struct\",\"fields\":[{\"name\":\"100\",\"type\":{\"type\":\"struct\",\"fields\":[{\"name\":\"h\",\"type\":\"long\",\"nullable\":true,\"metadata\":{}},{\"name\":\"w\",\"type\":\"long\",\"nullable\":true,\"metadata\":{}}]},\"nullable\":true,\"metadata\":{}},{\"name\":\"200\",\"type\":{\"type\":\"struct\",\"fields\":[{\"name\":\"h\",\"type\":\"long\",\"nullable\":true,\"metadata\":{}},{\"name\":\"w\",\"type\":\"long\",\"nullable\":true,\"metadata\":{}}]},\"nullable\":true,\"metadata\":{}},{\"name\":\"400\",\"type\":{\"type\":\"struct\",\"fields\":[{\"name\":\"h\",\"type\":\"long\",\"nullable\":true,\"metadata\":{}},{\"name\":\"w\",\"type\":\"long\",\"nullable\":true,\"metadata\":{}}]},\"nullable\":true,\"metadata\":{}},{\"name\":\"full\",\"type\":{\"type\":\"struct\",\"fields\":[{\"name\":\"h\",\"type\":\"long\",\"nullable\":true,\"metadata\":{}},{\"name\":\"w\",\"type\":\"long\",\"nullable\":true,\"metadata\":{}}]},\"nullable\":true,\"metadata\":{}}]},\"nullable\":true,\"metadata\":{}},{\"name\":\"white_magic\",\"type\":\"string\",\"nullable\":true,\"metadata\":{}}]},\"nullable\":true,\"metadata\":{}}]},\"nullable\":true,\"metadata\":{}},{\"name\":\"informers\",\"type\":{\"type\":\"array\",\"elementType\":\"string\",\"containsNull\":true},\"nullable\":true,\"metadata\":{}},{\"name\":\"informers_tags\",\"type\":{\"type\":\"array\",\"elementType\":\"string\",\"containsNull\":true},\"nullable\":true,\"metadata\":{}},{\"name\":\"ingredients\",\"type\":{\"type\":\"array\",\"elementType\":{\"type\":\"struct\",\"fields\":[{\"name\":\"id\",\"type\":\"string\",\"nullable\":true,\"metadata\":{}},{\"name\":\"ingredients\",\"type\":{\"type\":\"array\",\"elementType\":{\"type\":\"struct\",\"fields\":[{\"name\":\"ciqual_food_code\",\"type\":\"string\",\"nullable\":true,\"metadata\":{}},{\"name\":\"ciqual_proxy_food_code\",\"type\":\"string\",\"nullable\":true,\"metadata\":{}},{\"name\":\"from_palm_oil\",\"type\":\"string\",\"nullable\":true,\"metadata\":{}},{\"name\":\"id\",\"type\":\"string\",\"nullable\":true,\"metadata\":{}},{\"name\":\"ingredients\",\"type\":{\"type\":\"array\",\"elementType\":{\"type\":\"struct\",\"fields\":[{\"name\":\"ciqual_food_code\",\"type\":\"string\",\"nullable\":true,\"metadata\":{}},{\"name\":\"id\",\"type\":\"string\",\"nullable\":true,\"metadata\":{}},{\"name\":\"percent_estimate\",\"type\":\"double\",\"nullable\":true,\"metadata\":{}},{\"name\":\"percent_max\",\"type\":\"double\",\"nullable\":true,\"metadata\":{}},{\"name\":\"percent_min\",\"type\":\"long\",\"nullable\":true,\"metadata\":{}},{\"name\":\"text\",\"type\":\"string\",\"nullable\":true,\"metadata\":{}},{\"name\":\"vegan\",\"type\":\"string\",\"nullable\":true,\"metadata\":{}},{\"name\":\"vegetarian\",\"type\":\"string\",\"nullable\":true,\"metadata\":{}}]},\"containsNull\":true},\"nullable\":true,\"metadata\":{}},{\"name\":\"percent_estimate\",\"type\":\"double\",\"nullable\":true,\"metadata\":{}},{\"name\":\"percent_max\",\"type\":\"double\",\"nullable\":true,\"metadata\":{}},{\"name\":\"percent_min\",\"type\":\"long\",\"nullable\":true,\"metadata\":{}},{\"name\":\"text\",\"type\":\"string\",\"nullable\":true,\"metadata\":{}},{\"name\":\"vegan\",\"type\":\"string\",\"nullable\":true,\"metadata\":{}},{\"name\":\"vegetarian\",\"type\":\"string\",\"nullable\":true,\"metadata\":{}}]},\"containsNull\":true},\"nullable\":true,\"metadata\":{}},{\"name\":\"percent_estimate\",\"type\":\"long\",\"nullable\":true,\"metadata\":{}},{\"name\":\"percent_max\",\"type\":\"long\",\"nullable\":true,\"metadata\":{}},{\"name\":\"percent_min\",\"type\":\"long\",\"nullable\":true,\"metadata\":{}},{\"name\":\"text\",\"type\":\"string\",\"nullable\":true,\"metadata\":{}},{\"name\":\"vegan\",\"type\":\"string\",\"nullable\":true,\"metadata\":{}},{\"name\":\"vegetarian\",\"type\":\"string\",\"nullable\":true,\"metadata\":{}}]},\"containsNull\":true},\"nullable\":true,\"metadata\":{}},{\"name\":\"ingredients_analysis\",\"type\":{\"type\":\"struct\",\"fields\":[{\"name\":\"en:palm-oil-content-unknown\",\"type\":{\"type\":\"array\",\"elementType\":\"string\",\"containsNull\":true},\"nullable\":true,\"metadata\":{}},{\"name\":\"en:vegan-status-unknown\",\"type\":{\"type\":\"array\",\"elementType\":\"string\",\"containsNull\":true},\"nullable\":true,\"metadata\":{}},{\"name\":\"en:vegetarian-status-unknown\",\"type\":{\"type\":\"array\",\"elementType\":\"string\",\"containsNull\":true},\"nullable\":true,\"metadata\":{}}]},\"nullable\":true,\"metadata\":{}},{\"name\":\"ingredients_analysis_tags\",\"type\":{\"type\":\"array\",\"elementType\":\"string\",\"containsNull\":true},\"nullable\":true,\"metadata\":{}},{\"name\":\"ingredients_debug\",\"type\":{\"type\":\"array\",\"elementType\":\"string\",\"containsNull\":true},\"nullable\":true,\"metadata\":{}},{\"name\":\"ingredients_from_or_that_may_be_from_palm_oil_n\",\"type\":\"long\",\"nullable\":true,\"metadata\":{}},{\"name\":\"ingredients_from_palm_oil_n\",\"type\":\"long\",\"nullable\":true,\"metadata\":{}},{\"name\":\"ingredients_from_palm_oil_tags\",\"type\":{\"type\":\"array\",\"elementType\":\"string\",\"containsNull\":true},\"nullable\":true,\"metadata\":{}},{\"name\":\"ingredients_hierarchy\",\"type\":{\"type\":\"array\",\"elementType\":\"string\",\"containsNull\":true},\"nullable\":true,\"metadata\":{}},{\"name\":\"ingredients_ids_debug\",\"type\":{\"type\":\"array\",\"elementType\":\"string\",\"containsNull\":true},\"nullable\":true,\"metadata\":{}},{\"name\":\"ingredients_lc\",\"type\":\"string\",\"nullable\":true,\"metadata\":{}},{\"name\":\"ingredients_n\",\"type\":\"long\",\"nullable\":true,\"metadata\":{}},{\"name\":\"ingredients_n_tags\",\"type\":{\"type\":\"array\",\"elementType\":\"string\",\"containsNull\":true},\"nullable\":true,\"metadata\":{}},{\"name\":\"ingredients_original_tags\",\"type\":{\"type\":\"array\",\"elementType\":\"string\",\"containsNull\":true},\"nullable\":true,\"metadata\":{}},{\"name\":\"ingredients_percent_analysis\",\"type\":\"long\",\"nullable\":true,\"metadata\":{}},{\"name\":\"ingredients_tags\",\"type\":{\"type\":\"array\",\"elementType\":\"string\",\"containsNull\":true},\"nullable\":true,\"metadata\":{}},{\"name\":\"ingredients_text\",\"type\":\"string\",\"nullable\":true,\"metadata\":{}},{\"name\":\"ingredients_text_debug\",\"type\":\"string\",\"nullable\":true,\"metadata\":{}},{\"name\":\"ingredients_text_en\",\"type\":\"string\",\"nullable\":true,\"metadata\":{}},{\"name\":\"ingredients_text_en_imported\",\"type\":\"string\",\"nullable\":true,\"metadata\":{}},{\"name\":\"ingredients_text_with_allergens\",\"type\":\"string\",\"nullable\":true,\"metadata\":{}},{\"name\":\"ingredients_text_with_allergens_en\",\"type\":\"string\",\"nullable\":true,\"metadata\":{}},{\"name\":\"ingredients_that_may_be_from_palm_oil_n\",\"type\":\"long\",\"nullable\":true,\"metadata\":{}},{\"name\":\"ingredients_that_may_be_from_palm_oil_tags\",\"type\":{\"type\":\"array\",\"elementType\":\"string\",\"containsNull\":true},\"nullable\":true,\"metadata\":{}},{\"name\":\"ingredients_with_specified_percent_n\",\"type\":\"long\",\"nullable\":true,\"metadata\":{}},{\"name\":\"ingredients_with_specified_percent_sum\",\"type\":\"long\",\"nullable\":true,\"metadata\":{}},{\"name\":\"ingredients_with_unspecified_percent_n\",\"type\":\"long\",\"nullable\":true,\"metadata\":{}},{\"name\":\"ingredients_with_unspecified_percent_sum\",\"type\":\"long\",\"nullable\":true,\"metadata\":{}},{\"name\":\"ingredients_without_ciqual_codes\",\"type\":{\"type\":\"array\",\"elementType\":\"string\",\"containsNull\":true},\"nullable\":true,\"metadata\":{}},{\"name\":\"ingredients_without_ciqual_codes_n\",\"type\":\"long\",\"nullable\":true,\"metadata\":{}},{\"name\":\"interface_version_created\",\"type\":\"string\",\"nullable\":true,\"metadata\":{}},{\"name\":\"interface_version_modified\",\"type\":\"string\",\"nullable\":true,\"metadata\":{}},{\"name\":\"known_ingredients_n\",\"type\":\"long\",\"nullable\":true,\"metadata\":{}},{\"name\":\"labels\",\"type\":\"string\",\"nullable\":true,\"metadata\":{}},{\"name\":\"labels_hierarchy\",\"type\":{\"type\":\"array\",\"elementType\":\"string\",\"containsNull\":true},\"nullable\":true,\"metadata\":{}},{\"name\":\"labels_lc\",\"type\":\"string\",\"nullable\":true,\"metadata\":{}},{\"name\":\"labels_old\",\"type\":\"string\",\"nullable\":true,\"metadata\":{}},{\"name\":\"labels_tags\",\"type\":{\"type\":\"array\",\"elementType\":\"string\",\"containsNull\":true},\"nullable\":true,\"metadata\":{}},{\"name\":\"lang\",\"type\":\"string\",\"nullable\":true,\"metadata\":{}},{\"name\":\"languages\",\"type\":{\"type\":\"struct\",\"fields\":[{\"name\":\"en:english\",\"type\":\"long\",\"nullable\":true,\"metadata\":{}}]},\"nullable\":true,\"metadata\":{}},{\"name\":\"languages_codes\",\"type\":{\"type\":\"struct\",\"fields\":[{\"name\":\"en\",\"type\":\"long\",\"nullable\":true,\"metadata\":{}}]},\"nullable\":true,\"metadata\":{}},{\"name\":\"languages_hierarchy\",\"type\":{\"type\":\"array\",\"elementType\":\"string\",\"containsNull\":true},\"nullable\":true,\"metadata\":{}},{\"name\":\"languages_tags\",\"type\":{\"type\":\"array\",\"elementType\":\"string\",\"containsNull\":true},\"nullable\":true,\"metadata\":{}},{\"name\":\"last_edit_dates_tags\",\"type\":{\"type\":\"array\",\"elementType\":\"string\",\"containsNull\":true},\"nullable\":true,\"metadata\":{}},{\"name\":\"last_editor\",\"type\":\"string\",\"nullable\":true,\"metadata\":{}},{\"name\":\"last_image_dates_tags\",\"type\":{\"type\":\"array\",\"elementType\":\"string\",\"containsNull\":true},\"nullable\":true,\"metadata\":{}},{\"name\":\"last_image_t\",\"type\":\"long\",\"nullable\":true,\"metadata\":{}},{\"name\":\"last_modified_by\",\"type\":\"string\",\"nullable\":true,\"metadata\":{}},{\"name\":\"last_modified_t\",\"type\":\"long\",\"nullable\":true,\"metadata\":{}},{\"name\":\"last_updated_t\",\"type\":\"long\",\"nullable\":true,\"metadata\":{}},{\"name\":\"lc\",\"type\":\"string\",\"nullable\":true,\"metadata\":{}},{\"name\":\"lc_imported\",\"type\":\"string\",\"nullable\":true,\"metadata\":{}},{\"name\":\"link\",\"type\":\"string\",\"nullable\":true,\"metadata\":{}},{\"name\":\"main_countries_tags\",\"type\":{\"type\":\"array\",\"elementType\":\"string\",\"containsNull\":true},\"nullable\":true,\"metadata\":{}},{\"name\":\"manufacturing_places\",\"type\":\"string\",\"nullable\":true,\"metadata\":{}},{\"name\":\"manufacturing_places_tags\",\"type\":{\"type\":\"array\",\"elementType\":\"string\",\"containsNull\":true},\"nullable\":true,\"metadata\":{}},{\"name\":\"max_imgid\",\"type\":\"string\",\"nullable\":true,\"metadata\":{}},{\"name\":\"minerals_prev_tags\",\"type\":{\"type\":\"array\",\"elementType\":\"string\",\"containsNull\":true},\"nullable\":true,\"metadata\":{}},{\"name\":\"minerals_tags\",\"type\":{\"type\":\"array\",\"elementType\":\"string\",\"containsNull\":true},\"nullable\":true,\"metadata\":{}},{\"name\":\"misc_tags\",\"type\":{\"type\":\"array\",\"elementType\":\"string\",\"containsNull\":true},\"nullable\":true,\"metadata\":{}},{\"name\":\"new_additives_n\",\"type\":\"long\",\"nullable\":true,\"metadata\":{}},{\"name\":\"no_nutrition_data\",\"type\":\"string\",\"nullable\":true,\"metadata\":{}},{\"name\":\"nova_group\",\"type\":\"long\",\"nullable\":true,\"metadata\":{}},{\"name\":\"nova_group_debug\",\"type\":\"string\",\"nullable\":true,\"metadata\":{}},{\"name\":\"nova_groups\",\"type\":\"string\",\"nullable\":true,\"metadata\":{}},{\"name\":\"nova_groups_markers\",\"type\":{\"type\":\"struct\",\"fields\":[{\"name\":\"3\",\"type\":{\"type\":\"array\",\"elementType\":{\"type\":\"array\",\"elementType\":\"string\",\"containsNull\":true},\"containsNull\":true},\"nullable\":true,\"metadata\":{}},{\"name\":\"4\",\"type\":{\"type\":\"array\",\"elementType\":{\"type\":\"array\",\"elementType\":\"string\",\"containsNull\":true},\"containsNull\":true},\"nullable\":true,\"metadata\":{}}]},\"nullable\":true,\"metadata\":{}},{\"name\":\"nova_groups_tags\",\"type\":{\"type\":\"array\",\"elementType\":\"string\",\"containsNull\":true},\"nullable\":true,\"metadata\":{}},{\"name\":\"nucleotides_prev_tags\",\"type\":{\"type\":\"array\",\"elementType\":\"string\",\"containsNull\":true},\"nullable\":true,\"metadata\":{}},{\"name\":\"nucleotides_tags\",\"type\":{\"type\":\"array\",\"elementType\":\"string\",\"containsNull\":true},\"nullable\":true,\"metadata\":{}},{\"name\":\"nutrient_levels\",\"type\":{\"type\":\"struct\",\"fields\":[{\"name\":\"fat\",\"type\":\"string\",\"nullable\":true,\"metadata\":{}},{\"name\":\"salt\",\"type\":\"string\",\"nullable\":true,\"metadata\":{}},{\"name\":\"saturated-fat\",\"type\":\"string\",\"nullable\":true,\"metadata\":{}},{\"name\":\"sugars\",\"type\":\"string\",\"nullable\":true,\"metadata\":{}}]},\"nullable\":true,\"metadata\":{}},{\"name\":\"nutrient_levels_tags\",\"type\":{\"type\":\"array\",\"elementType\":\"string\",\"containsNull\":true},\"nullable\":true,\"metadata\":{}},{\"name\":\"nutriments\",\"type\":{\"type\":\"struct\",\"fields\":[{\"name\":\"calcium\",\"type\":\"double\",\"nullable\":true,\"metadata\":{}},{\"name\":\"calcium_100g\",\"type\":\"double\",\"nullable\":true,\"metadata\":{}},{\"name\":\"calcium_serving\",\"type\":\"double\",\"nullable\":true,\"metadata\":{}},{\"name\":\"calcium_unit\",\"type\":\"string\",\"nullable\":true,\"metadata\":{}},{\"name\":\"calcium_value\",\"type\":\"long\",\"nullable\":true,\"metadata\":{}},{\"name\":\"carbohydrates\",\"type\":\"double\",\"nullable\":true,\"metadata\":{}},{\"name\":\"carbohydrates_100g\",\"type\":\"double\",\"nullable\":true,\"metadata\":{}},{\"name\":\"carbohydrates_serving\",\"type\":\"long\",\"nullable\":true,\"metadata\":{}},{\"name\":\"carbohydrates_unit\",\"type\":\"string\",\"nullable\":true,\"metadata\":{}},{\"name\":\"carbohydrates_value\",\"type\":\"double\",\"nullable\":true,\"metadata\":{}},{\"name\":\"cholesterol\",\"type\":\"long\",\"nullable\":true,\"metadata\":{}},{\"name\":\"cholesterol_100g\",\"type\":\"long\",\"nullable\":true,\"metadata\":{}},{\"name\":\"cholesterol_serving\",\"type\":\"long\",\"nullable\":true,\"metadata\":{}},{\"name\":\"cholesterol_unit\",\"type\":\"string\",\"nullable\":true,\"metadata\":{}},{\"name\":\"cholesterol_value\",\"type\":\"long\",\"nullable\":true,\"metadata\":{}},{\"name\":\"energy\",\"type\":\"long\",\"nullable\":true,\"metadata\":{}},{\"name\":\"energy-kcal\",\"type\":\"long\",\"nullable\":true,\"metadata\":{}},{\"name\":\"energy-kcal_100g\",\"type\":\"long\",\"nullable\":true,\"metadata\":{}},{\"name\":\"energy-kcal_serving\",\"type\":\"long\",\"nullable\":true,\"metadata\":{}},{\"name\":\"energy-kcal_unit\",\"type\":\"string\",\"nullable\":true,\"metadata\":{}},{\"name\":\"energy-kcal_value\",\"type\":\"long\",\"nullable\":true,\"metadata\":{}},{\"name\":\"energy-kcal_value_computed\",\"type\":\"double\",\"nullable\":true,\"metadata\":{}},{\"name\":\"energy_100g\",\"type\":\"long\",\"nullable\":true,\"metadata\":{}},{\"name\":\"energy_serving\",\"type\":\"long\",\"nullable\":true,\"metadata\":{}},{\"name\":\"energy_unit\",\"type\":\"string\",\"nullable\":true,\"metadata\":{}},{\"name\":\"energy_value\",\"type\":\"long\",\"nullable\":true,\"metadata\":{}},{\"name\":\"fat\",\"type\":\"double\",\"nullable\":true,\"metadata\":{}},{\"name\":\"fat_100g\",\"type\":\"double\",\"nullable\":true,\"metadata\":{}},{\"name\":\"fat_serving\",\"type\":\"long\",\"nullable\":true,\"metadata\":{}},{\"name\":\"fat_unit\",\"type\":\"string\",\"nullable\":true,\"metadata\":{}},{\"name\":\"fat_value\",\"type\":\"double\",\"nullable\":true,\"metadata\":{}},{\"name\":\"fiber\",\"type\":\"double\",\"nullable\":true,\"metadata\":{}},{\"name\":\"fiber_100g\",\"type\":\"double\",\"nullable\":true,\"metadata\":{}},{\"name\":\"fiber_serving\",\"type\":\"double\",\"nullable\":true,\"metadata\":{}},{\"name\":\"fiber_unit\",\"type\":\"string\",\"nullable\":true,\"metadata\":{}},{\"name\":\"fiber_value\",\"type\":\"double\",\"nullable\":true,\"metadata\":{}},{\"name\":\"fruits-vegetables-legumes-estimate-from-ingredients_100g\",\"type\":\"double\",\"nullable\":true,\"metadata\":{}},{\"name\":\"fruits-vegetables-legumes-estimate-from-ingredients_serving\",\"type\":\"double\",\"nullable\":true,\"metadata\":{}},{\"name\":\"fruits-vegetables-nuts-estimate-from-ingredients_100g\",\"type\":\"double\",\"nullable\":true,\"metadata\":{}},{\"name\":\"fruits-vegetables-nuts-estimate-from-ingredients_serving\",\"type\":\"double\",\"nullable\":true,\"metadata\":{}},{\"name\":\"iron\",\"type\":\"double\",\"nullable\":true,\"metadata\":{}},{\"name\":\"iron_100g\",\"type\":\"double\",\"nullable\":true,\"metadata\":{}},{\"name\":\"iron_serving\",\"type\":\"double\",\"nullable\":true,\"metadata\":{}},{\"name\":\"iron_unit\",\"type\":\"string\",\"nullable\":true,\"metadata\":{}},{\"name\":\"iron_value\",\"type\":\"double\",\"nullable\":true,\"metadata\":{}},{\"name\":\"nova-group\",\"type\":\"long\",\"nullable\":true,\"metadata\":{}},{\"name\":\"nova-group_100g\",\"type\":\"long\",\"nullable\":true,\"metadata\":{}},{\"name\":\"nova-group_serving\",\"type\":\"long\",\"nullable\":true,\"metadata\":{}},{\"name\":\"nutrition-score-fr\",\"type\":\"long\",\"nullable\":true,\"metadata\":{}},{\"name\":\"nutrition-score-fr_100g\",\"type\":\"long\",\"nullable\":true,\"metadata\":{}},{\"name\":\"proteins\",\"type\":\"double\",\"nullable\":true,\"metadata\":{}},{\"name\":\"proteins_100g\",\"type\":\"double\",\"nullable\":true,\"metadata\":{}},{\"name\":\"proteins_serving\",\"type\":\"long\",\"nullable\":true,\"metadata\":{}},{\"name\":\"proteins_unit\",\"type\":\"string\",\"nullable\":true,\"metadata\":{}},{\"name\":\"proteins_value\",\"type\":\"double\",\"nullable\":true,\"metadata\":{}},{\"name\":\"salt\",\"type\":\"double\",\"nullable\":true,\"metadata\":{}},{\"name\":\"salt_100g\",\"type\":\"double\",\"nullable\":true,\"metadata\":{}},{\"name\":\"salt_serving\",\"type\":\"double\",\"nullable\":true,\"metadata\":{}},{\"name\":\"salt_unit\",\"type\":\"string\",\"nullable\":true,\"metadata\":{}},{\"name\":\"salt_value\",\"type\":\"long\",\"nullable\":true,\"metadata\":{}},{\"name\":\"saturated-fat\",\"type\":\"double\",\"nullable\":true,\"metadata\":{}},{\"name\":\"saturated-fat_100g\",\"type\":\"double\",\"nullable\":true,\"metadata\":{}},{\"name\":\"saturated-fat_serving\",\"type\":\"double\",\"nullable\":true,\"metadata\":{}},{\"name\":\"saturated-fat_unit\",\"type\":\"string\",\"nullable\":true,\"metadata\":{}},{\"name\":\"saturated-fat_value\",\"type\":\"double\",\"nullable\":true,\"metadata\":{}},{\"name\":\"sodium\",\"type\":\"double\",\"nullable\":true,\"metadata\":{}},{\"name\":\"sodium_100g\",\"type\":\"double\",\"nullable\":true,\"metadata\":{}},{\"name\":\"sodium_serving\",\"type\":\"double\",\"nullable\":true,\"metadata\":{}},{\"name\":\"sodium_unit\",\"type\":\"string\",\"nullable\":true,\"metadata\":{}},{\"name\":\"sodium_value\",\"type\":\"long\",\"nullable\":true,\"metadata\":{}},{\"name\":\"sugars\",\"type\":\"double\",\"nullable\":true,\"metadata\":{}},{\"name\":\"sugars_100g\",\"type\":\"double\",\"nullable\":true,\"metadata\":{}},{\"name\":\"sugars_serving\",\"type\":\"long\",\"nullable\":true,\"metadata\":{}},{\"name\":\"sugars_unit\",\"type\":\"string\",\"nullable\":true,\"metadata\":{}},{\"name\":\"sugars_value\",\"type\":\"double\",\"nullable\":true,\"metadata\":{}},{\"name\":\"trans-fat\",\"type\":\"long\",\"nullable\":true,\"metadata\":{}},{\"name\":\"trans-fat_100g\",\"type\":\"long\",\"nullable\":true,\"metadata\":{}},{\"name\":\"trans-fat_serving\",\"type\":\"long\",\"nullable\":true,\"metadata\":{}},{\"name\":\"trans-fat_unit\",\"type\":\"string\",\"nullable\":true,\"metadata\":{}},{\"name\":\"trans-fat_value\",\"type\":\"long\",\"nullable\":true,\"metadata\":{}},{\"name\":\"vitamin-a\",\"type\":\"double\",\"nullable\":true,\"metadata\":{}},{\"name\":\"vitamin-a_100g\",\"type\":\"double\",\"nullable\":true,\"metadata\":{}},{\"name\":\"vitamin-a_serving\",\"type\":\"double\",\"nullable\":true,\"metadata\":{}},{\"name\":\"vitamin-a_unit\",\"type\":\"string\",\"nullable\":true,\"metadata\":{}},{\"name\":\"vitamin-a_value\",\"type\":\"long\",\"nullable\":true,\"metadata\":{}},{\"name\":\"vitamin-c\",\"type\":\"long\",\"nullable\":true,\"metadata\":{}},{\"name\":\"vitamin-c_100g\",\"type\":\"long\",\"nullable\":true,\"metadata\":{}},{\"name\":\"vitamin-c_serving\",\"type\":\"long\",\"nullable\":true,\"metadata\":{}},{\"name\":\"vitamin-c_unit\",\"type\":\"string\",\"nullable\":true,\"metadata\":{}},{\"name\":\"vitamin-c_value\",\"type\":\"long\",\"nullable\":true,\"metadata\":{}}]},\"nullable\":true,\"metadata\":{}},{\"name\":\"nutriscore\",\"type\":{\"type\":\"struct\",\"fields\":[{\"name\":\"2021\",\"type\":{\"type\":\"struct\",\"fields\":[{\"name\":\"category_available\",\"type\":\"long\",\"nullable\":true,\"metadata\":{}},{\"name\":\"data\",\"type\":{\"type\":\"struct\",\"fields\":[{\"name\":\"energy\",\"type\":\"long\",\"nullable\":true,\"metadata\":{}},{\"name\":\"energy_points\",\"type\":\"long\",\"nullable\":true,\"metadata\":{}},{\"name\":\"energy_value\",\"type\":\"long\",\"nullable\":true,\"metadata\":{}},{\"name\":\"fiber\",\"type\":\"double\",\"nullable\":true,\"metadata\":{}},{\"name\":\"fiber_points\",\"type\":\"long\",\"nullable\":true,\"metadata\":{}},{\"name\":\"fiber_value\",\"type\":\"double\",\"nullable\":true,\"metadata\":{}},{\"name\":\"fruits_vegetables_nuts_colza_walnut_olive_oils\",\"type\":\"double\",\"nullable\":true,\"metadata\":{}},{\"name\":\"fruits_vegetables_nuts_colza_walnut_olive_oils_points\",\"type\":\"long\",\"nullable\":true,\"metadata\":{}},{\"name\":\"fruits_vegetables_nuts_colza_walnut_olive_oils_value\",\"type\":\"long\",\"nullable\":true,\"metadata\":{}},{\"name\":\"is_beverage\",\"type\":\"long\",\"nullable\":true,\"metadata\":{}},{\"name\":\"is_cheese\",\"type\":\"long\",\"nullable\":true,\"metadata\":{}},{\"name\":\"is_fat\",\"type\":\"long\",\"nullable\":true,\"metadata\":{}},{\"name\":\"is_water\",\"type\":\"long\",\"nullable\":true,\"metadata\":{}},{\"name\":\"negative_points\",\"type\":\"long\",\"nullable\":true,\"metadata\":{}},{\"name\":\"positive_points\",\"type\":\"long\",\"nullable\":true,\"metadata\":{}},{\"name\":\"proteins\",\"type\":\"double\",\"nullable\":true,\"metadata\":{}},{\"name\":\"proteins_points\",\"type\":\"long\",\"nullable\":true,\"metadata\":{}},{\"name\":\"proteins_value\",\"type\":\"double\",\"nullable\":true,\"metadata\":{}},{\"name\":\"saturated_fat\",\"type\":\"double\",\"nullable\":true,\"metadata\":{}},{\"name\":\"saturated_fat_points\",\"type\":\"long\",\"nullable\":true,\"metadata\":{}},{\"name\":\"saturated_fat_value\",\"type\":\"double\",\"nullable\":true,\"metadata\":{}},{\"name\":\"sodium\",\"type\":\"long\",\"nullable\":true,\"metadata\":{}},{\"name\":\"sodium_points\",\"type\":\"long\",\"nullable\":true,\"metadata\":{}},{\"name\":\"sodium_value\",\"type\":\"long\",\"nullable\":true,\"metadata\":{}},{\"name\":\"sugars\",\"type\":\"double\",\"nullable\":true,\"metadata\":{}},{\"name\":\"sugars_points\",\"type\":\"long\",\"nullable\":true,\"metadata\":{}},{\"name\":\"sugars_value\",\"type\":\"double\",\"nullable\":true,\"metadata\":{}}]},\"nullable\":true,\"metadata\":{}},{\"name\":\"grade\",\"type\":\"string\",\"nullable\":true,\"metadata\":{}},{\"name\":\"nutrients_available\",\"type\":\"long\",\"nullable\":true,\"metadata\":{}},{\"name\":\"nutriscore_applicable\",\"type\":\"long\",\"nullable\":true,\"metadata\":{}},{\"name\":\"nutriscore_computed\",\"type\":\"long\",\"nullable\":true,\"metadata\":{}},{\"name\":\"score\",\"type\":\"long\",\"nullable\":true,\"metadata\":{}}]},\"nullable\":true,\"metadata\":{}},{\"name\":\"2023\",\"type\":{\"type\":\"struct\",\"fields\":[{\"name\":\"category_available\",\"type\":\"long\",\"nullable\":true,\"metadata\":{}},{\"name\":\"data\",\"type\":{\"type\":\"struct\",\"fields\":[{\"name\":\"components\",\"type\":{\"type\":\"struct\",\"fields\":[{\"name\":\"negative\",\"type\":{\"type\":\"array\",\"elementType\":{\"type\":\"struct\",\"fields\":[{\"name\":\"id\",\"type\":\"string\",\"nullable\":true,\"metadata\":{}},{\"name\":\"points\",\"type\":\"long\",\"nullable\":true,\"metadata\":{}},{\"name\":\"points_max\",\"type\":\"long\",\"nullable\":true,\"metadata\":{}},{\"name\":\"unit\",\"type\":\"string\",\"nullable\":true,\"metadata\":{}},{\"name\":\"value\",\"type\":\"double\",\"nullable\":true,\"metadata\":{}}]},\"containsNull\":true},\"nullable\":true,\"metadata\":{}},{\"name\":\"positive\",\"type\":{\"type\":\"array\",\"elementType\":{\"type\":\"struct\",\"fields\":[{\"name\":\"id\",\"type\":\"string\",\"nullable\":true,\"metadata\":{}},{\"name\":\"points\",\"type\":\"long\",\"nullable\":true,\"metadata\":{}},{\"name\":\"points_max\",\"type\":\"long\",\"nullable\":true,\"metadata\":{}},{\"name\":\"unit\",\"type\":\"string\",\"nullable\":true,\"metadata\":{}},{\"name\":\"value\",\"type\":\"double\",\"nullable\":true,\"metadata\":{}}]},\"containsNull\":true},\"nullable\":true,\"metadata\":{}}]},\"nullable\":true,\"metadata\":{}},{\"name\":\"count_proteins\",\"type\":\"long\",\"nullable\":true,\"metadata\":{}},{\"name\":\"count_proteins_reason\",\"type\":\"string\",\"nullable\":true,\"metadata\":{}},{\"name\":\"is_beverage\",\"type\":\"long\",\"nullable\":true,\"metadata\":{}},{\"name\":\"is_cheese\",\"type\":\"long\",\"nullable\":true,\"metadata\":{}},{\"name\":\"is_fat_oil_nuts_seeds\",\"type\":\"long\",\"nullable\":true,\"metadata\":{}},{\"name\":\"is_red_meat_product\",\"type\":\"long\",\"nullable\":true,\"metadata\":{}},{\"name\":\"is_water\",\"type\":\"long\",\"nullable\":true,\"metadata\":{}},{\"name\":\"negative_points\",\"type\":\"long\",\"nullable\":true,\"metadata\":{}},{\"name\":\"negative_points_max\",\"type\":\"long\",\"nullable\":true,\"metadata\":{}},{\"name\":\"positive_nutrients\",\"type\":{\"type\":\"array\",\"elementType\":\"string\",\"containsNull\":true},\"nullable\":true,\"metadata\":{}},{\"name\":\"positive_points\",\"type\":\"long\",\"nullable\":true,\"metadata\":{}},{\"name\":\"positive_points_max\",\"type\":\"long\",\"nullable\":true,\"metadata\":{}}]},\"nullable\":true,\"metadata\":{}},{\"name\":\"grade\",\"type\":\"string\",\"nullable\":true,\"metadata\":{}},{\"name\":\"nutrients_available\",\"type\":\"long\",\"nullable\":true,\"metadata\":{}},{\"name\":\"nutriscore_applicable\",\"type\":\"long\",\"nullable\":true,\"metadata\":{}},{\"name\":\"nutriscore_computed\",\"type\":\"long\",\"nullable\":true,\"metadata\":{}},{\"name\":\"score\",\"type\":\"long\",\"nullable\":true,\"metadata\":{}}]},\"nullable\":true,\"metadata\":{}}]},\"nullable\":true,\"metadata\":{}},{\"name\":\"nutriscore_2021_tags\",\"type\":{\"type\":\"array\",\"elementType\":\"string\",\"containsNull\":true},\"nullable\":true,\"metadata\":{}},{\"name\":\"nutriscore_2023_tags\",\"type\":{\"type\":\"array\",\"elementType\":\"string\",\"containsNull\":true},\"nullable\":true,\"metadata\":{}},{\"name\":\"nutriscore_data\",\"type\":{\"type\":\"struct\",\"fields\":[{\"name\":\"energy\",\"type\":\"long\",\"nullable\":true,\"metadata\":{}},{\"name\":\"energy_points\",\"type\":\"long\",\"nullable\":true,\"metadata\":{}},{\"name\":\"energy_value\",\"type\":\"long\",\"nullable\":true,\"metadata\":{}},{\"name\":\"fiber\",\"type\":\"double\",\"nullable\":true,\"metadata\":{}},{\"name\":\"fiber_points\",\"type\":\"long\",\"nullable\":true,\"metadata\":{}},{\"name\":\"fiber_value\",\"type\":\"double\",\"nullable\":true,\"metadata\":{}},{\"name\":\"fruits_vegetables_nuts_colza_walnut_olive_oils\",\"type\":\"double\",\"nullable\":true,\"metadata\":{}},{\"name\":\"fruits_vegetables_nuts_colza_walnut_olive_oils_points\",\"type\":\"long\",\"nullable\":true,\"metadata\":{}},{\"name\":\"fruits_vegetables_nuts_colza_walnut_olive_oils_value\",\"type\":\"long\",\"nullable\":true,\"metadata\":{}},{\"name\":\"grade\",\"type\":\"string\",\"nullable\":true,\"metadata\":{}},{\"name\":\"is_beverage\",\"type\":\"long\",\"nullable\":true,\"metadata\":{}},{\"name\":\"is_cheese\",\"type\":\"long\",\"nullable\":true,\"metadata\":{}},{\"name\":\"is_fat\",\"type\":\"long\",\"nullable\":true,\"metadata\":{}},{\"name\":\"is_water\",\"type\":\"long\",\"nullable\":true,\"metadata\":{}},{\"name\":\"negative_points\",\"type\":\"long\",\"nullable\":true,\"metadata\":{}},{\"name\":\"positive_points\",\"type\":\"long\",\"nullable\":true,\"metadata\":{}},{\"name\":\"proteins\",\"type\":\"double\",\"nullable\":true,\"metadata\":{}},{\"name\":\"proteins_points\",\"type\":\"long\",\"nullable\":true,\"metadata\":{}},{\"name\":\"proteins_value\",\"type\":\"double\",\"nullable\":true,\"metadata\":{}},{\"name\":\"saturated_fat\",\"type\":\"double\",\"nullable\":true,\"metadata\":{}},{\"name\":\"saturated_fat_points\",\"type\":\"long\",\"nullable\":true,\"metadata\":{}},{\"name\":\"saturated_fat_value\",\"type\":\"double\",\"nullable\":true,\"metadata\":{}},{\"name\":\"score\",\"type\":\"long\",\"nullable\":true,\"metadata\":{}},{\"name\":\"sodium\",\"type\":\"long\",\"nullable\":true,\"metadata\":{}},{\"name\":\"sodium_points\",\"type\":\"long\",\"nullable\":true,\"metadata\":{}},{\"name\":\"sodium_value\",\"type\":\"long\",\"nullable\":true,\"metadata\":{}},{\"name\":\"sugars\",\"type\":\"double\",\"nullable\":true,\"metadata\":{}},{\"name\":\"sugars_points\",\"type\":\"long\",\"nullable\":true,\"metadata\":{}},{\"name\":\"sugars_value\",\"type\":\"double\",\"nullable\":true,\"metadata\":{}}]},\"nullable\":true,\"metadata\":{}},{\"name\":\"nutriscore_grade\",\"type\":\"string\",\"nullable\":true,\"metadata\":{}},{\"name\":\"nutriscore_score\",\"type\":\"long\",\"nullable\":true,\"metadata\":{}},{\"name\":\"nutriscore_score_opposite\",\"type\":\"long\",\"nullable\":true,\"metadata\":{}},{\"name\":\"nutriscore_tags\",\"type\":{\"type\":\"array\",\"elementType\":\"string\",\"containsNull\":true},\"nullable\":true,\"metadata\":{}},{\"name\":\"nutriscore_version\",\"type\":\"string\",\"nullable\":true,\"metadata\":{}},{\"name\":\"nutrition_data\",\"type\":\"string\",\"nullable\":true,\"metadata\":{}},{\"name\":\"nutrition_data_per\",\"type\":\"string\",\"nullable\":true,\"metadata\":{}},{\"name\":\"nutrition_data_per_imported\",\"type\":\"string\",\"nullable\":true,\"metadata\":{}},{\"name\":\"nutrition_data_prepared\",\"type\":\"string\",\"nullable\":true,\"metadata\":{}},{\"name\":\"nutrition_data_prepared_per\",\"type\":\"string\",\"nullable\":true,\"metadata\":{}},{\"name\":\"nutrition_data_prepared_per_imported\",\"type\":\"string\",\"nullable\":true,\"metadata\":{}},{\"name\":\"nutrition_grade_fr\",\"type\":\"string\",\"nullable\":true,\"metadata\":{}},{\"name\":\"nutrition_grades\",\"type\":\"string\",\"nullable\":true,\"metadata\":{}},{\"name\":\"nutrition_grades_tags\",\"type\":{\"type\":\"array\",\"elementType\":\"string\",\"containsNull\":true},\"nullable\":true,\"metadata\":{}},{\"name\":\"nutrition_score_beverage\",\"type\":\"long\",\"nullable\":true,\"metadata\":{}},{\"name\":\"nutrition_score_debug\",\"type\":\"string\",\"nullable\":true,\"metadata\":{}},{\"name\":\"nutrition_score_warning_fruits_vegetables_legumes_estimate_from_ingredients\",\"type\":\"long\",\"nullable\":true,\"metadata\":{}},{\"name\":\"nutrition_score_warning_fruits_vegetables_legumes_estimate_from_ingredients_value\",\"type\":\"double\",\"nullable\":true,\"metadata\":{}},{\"name\":\"nutrition_score_warning_fruits_vegetables_nuts_estimate_from_ingredients\",\"type\":\"long\",\"nullable\":true,\"metadata\":{}},{\"name\":\"nutrition_score_warning_fruits_vegetables_nuts_estimate_from_ingredients_value\",\"type\":\"double\",\"nullable\":true,\"metadata\":{}},{\"name\":\"obsolete\",\"type\":\"string\",\"nullable\":true,\"metadata\":{}},{\"name\":\"obsolete_since_date\",\"type\":\"string\",\"nullable\":true,\"metadata\":{}},{\"name\":\"origin\",\"type\":\"string\",\"nullable\":true,\"metadata\":{}},{\"name\":\"origin_en\",\"type\":\"string\",\"nullable\":true,\"metadata\":{}},{\"name\":\"origins\",\"type\":\"string\",\"nullable\":true,\"metadata\":{}},{\"name\":\"origins_hierarchy\",\"type\":{\"type\":\"array\",\"elementType\":\"string\",\"containsNull\":true},\"nullable\":true,\"metadata\":{}},{\"name\":\"origins_lc\",\"type\":\"string\",\"nullable\":true,\"metadata\":{}},{\"name\":\"origins_old\",\"type\":\"string\",\"nullable\":true,\"metadata\":{}},{\"name\":\"origins_tags\",\"type\":{\"type\":\"array\",\"elementType\":\"string\",\"containsNull\":true},\"nullable\":true,\"metadata\":{}},{\"name\":\"other_nutritional_substances_tags\",\"type\":{\"type\":\"array\",\"elementType\":\"string\",\"containsNull\":true},\"nullable\":true,\"metadata\":{}},{\"name\":\"packaging\",\"type\":\"string\",\"nullable\":true,\"metadata\":{}},{\"name\":\"packaging_hierarchy\",\"type\":{\"type\":\"array\",\"elementType\":\"string\",\"containsNull\":true},\"nullable\":true,\"metadata\":{}},{\"name\":\"packaging_lc\",\"type\":\"string\",\"nullable\":true,\"metadata\":{}},{\"name\":\"packaging_materials_tags\",\"type\":{\"type\":\"array\",\"elementType\":\"string\",\"containsNull\":true},\"nullable\":true,\"metadata\":{}},{\"name\":\"packaging_old\",\"type\":\"string\",\"nullable\":true,\"metadata\":{}},{\"name\":\"packaging_old_before_taxonomization\",\"type\":\"string\",\"nullable\":true,\"metadata\":{}},{\"name\":\"packaging_recycling_tags\",\"type\":{\"type\":\"array\",\"elementType\":\"string\",\"containsNull\":true},\"nullable\":true,\"metadata\":{}},{\"name\":\"packaging_shapes_tags\",\"type\":{\"type\":\"array\",\"elementType\":\"string\",\"containsNull\":true},\"nullable\":true,\"metadata\":{}},{\"name\":\"packaging_tags\",\"type\":{\"type\":\"array\",\"elementType\":\"string\",\"containsNull\":true},\"nullable\":true,\"metadata\":{}},{\"name\":\"packaging_text\",\"type\":\"string\",\"nullable\":true,\"metadata\":{}},{\"name\":\"packaging_text_en\",\"type\":\"string\",\"nullable\":true,\"metadata\":{}},{\"name\":\"packagings\",\"type\":{\"type\":\"array\",\"elementType\":{\"type\":\"struct\",\"fields\":[{\"name\":\"shape\",\"type\":\"string\",\"nullable\":true,\"metadata\":{}}]},\"containsNull\":true},\"nullable\":true,\"metadata\":{}},{\"name\":\"packagings_complete\",\"type\":\"long\",\"nullable\":true,\"metadata\":{}},{\"name\":\"packagings_n\",\"type\":\"long\",\"nullable\":true,\"metadata\":{}},{\"name\":\"photographers\",\"type\":{\"type\":\"array\",\"elementType\":\"string\",\"containsNull\":true},\"nullable\":true,\"metadata\":{}},{\"name\":\"photographers_tags\",\"type\":{\"type\":\"array\",\"elementType\":\"string\",\"containsNull\":true},\"nullable\":true,\"metadata\":{}},{\"name\":\"pnns_groups_1\",\"type\":\"string\",\"nullable\":true,\"metadata\":{}},{\"name\":\"pnns_groups_1_tags\",\"type\":{\"type\":\"array\",\"elementType\":\"string\",\"containsNull\":true},\"nullable\":true,\"metadata\":{}},{\"name\":\"pnns_groups_2\",\"type\":\"string\",\"nullable\":true,\"metadata\":{}},{\"name\":\"pnns_groups_2_tags\",\"type\":{\"type\":\"array\",\"elementType\":\"string\",\"containsNull\":true},\"nullable\":true,\"metadata\":{}},{\"name\":\"popularity_key\",\"type\":\"long\",\"nullable\":true,\"metadata\":{}},{\"name\":\"popularity_tags\",\"type\":{\"type\":\"array\",\"elementType\":\"string\",\"containsNull\":true},\"nullable\":true,\"metadata\":{}},{\"name\":\"product_name\",\"type\":\"string\",\"nullable\":true,\"metadata\":{}},{\"name\":\"product_name_en\",\"type\":\"string\",\"nullable\":true,\"metadata\":{}},{\"name\":\"product_name_en_imported\",\"type\":\"string\",\"nullable\":true,\"metadata\":{}},{\"name\":\"product_quantity\",\"type\":\"string\",\"nullable\":true,\"metadata\":{}},{\"name\":\"product_quantity_unit\",\"type\":\"string\",\"nullable\":true,\"metadata\":{}},{\"name\":\"purchase_places\",\"type\":\"string\",\"nullable\":true,\"metadata\":{}},{\"name\":\"purchase_places_tags\",\"type\":{\"type\":\"array\",\"elementType\":\"string\",\"containsNull\":true},\"nullable\":true,\"metadata\":{}},{\"name\":\"quantity\",\"type\":\"string\",\"nullable\":true,\"metadata\":{}},{\"name\":\"removed_countries_tags\",\"type\":{\"type\":\"array\",\"elementType\":\"string\",\"containsNull\":true},\"nullable\":true,\"metadata\":{}},{\"name\":\"rev\",\"type\":\"long\",\"nullable\":true,\"metadata\":{}},{\"name\":\"scans_n\",\"type\":\"long\",\"nullable\":true,\"metadata\":{}},{\"name\":\"selected_images\",\"type\":{\"type\":\"struct\",\"fields\":[{\"name\":\"front\",\"type\":{\"type\":\"struct\",\"fields\":[{\"name\":\"display\",\"type\":{\"type\":\"struct\",\"fields\":[{\"name\":\"en\",\"type\":\"string\",\"nullable\":true,\"metadata\":{}}]},\"nullable\":true,\"metadata\":{}},{\"name\":\"small\",\"type\":{\"type\":\"struct\",\"fields\":[{\"name\":\"en\",\"type\":\"string\",\"nullable\":true,\"metadata\":{}}]},\"nullable\":true,\"metadata\":{}},{\"name\":\"thumb\",\"type\":{\"type\":\"struct\",\"fields\":[{\"name\":\"en\",\"type\":\"string\",\"nullable\":true,\"metadata\":{}}]},\"nullable\":true,\"metadata\":{}}]},\"nullable\":true,\"metadata\":{}},{\"name\":\"ingredients\",\"type\":{\"type\":\"struct\",\"fields\":[{\"name\":\"display\",\"type\":{\"type\":\"struct\",\"fields\":[{\"name\":\"en\",\"type\":\"string\",\"nullable\":true,\"metadata\":{}}]},\"nullable\":true,\"metadata\":{}},{\"name\":\"small\",\"type\":{\"type\":\"struct\",\"fields\":[{\"name\":\"en\",\"type\":\"string\",\"nullable\":true,\"metadata\":{}}]},\"nullable\":true,\"metadata\":{}},{\"name\":\"thumb\",\"type\":{\"type\":\"struct\",\"fields\":[{\"name\":\"en\",\"type\":\"string\",\"nullable\":true,\"metadata\":{}}]},\"nullable\":true,\"metadata\":{}}]},\"nullable\":true,\"metadata\":{}},{\"name\":\"nutrition\",\"type\":{\"type\":\"struct\",\"fields\":[{\"name\":\"display\",\"type\":{\"type\":\"struct\",\"fields\":[{\"name\":\"en\",\"type\":\"string\",\"nullable\":true,\"metadata\":{}}]},\"nullable\":true,\"metadata\":{}},{\"name\":\"small\",\"type\":{\"type\":\"struct\",\"fields\":[{\"name\":\"en\",\"type\":\"string\",\"nullable\":true,\"metadata\":{}}]},\"nullable\":true,\"metadata\":{}},{\"name\":\"thumb\",\"type\":{\"type\":\"struct\",\"fields\":[{\"name\":\"en\",\"type\":\"string\",\"nullable\":true,\"metadata\":{}}]},\"nullable\":true,\"metadata\":{}}]},\"nullable\":true,\"metadata\":{}}]},\"nullable\":true,\"metadata\":{}},{\"name\":\"serving_quantity\",\"type\":\"string\",\"nullable\":true,\"metadata\":{}},{\"name\":\"serving_quantity_unit\",\"type\":\"string\",\"nullable\":true,\"metadata\":{}},{\"name\":\"serving_size\",\"type\":\"string\",\"nullable\":true,\"metadata\":{}},{\"name\":\"serving_size_imported\",\"type\":\"string\",\"nullable\":true,\"metadata\":{}},{\"name\":\"sortkey\",\"type\":\"long\",\"nullable\":true,\"metadata\":{}},{\"name\":\"sources\",\"type\":{\"type\":\"array\",\"elementType\":{\"type\":\"struct\",\"fields\":[{\"name\":\"fields\",\"type\":{\"type\":\"array\",\"elementType\":\"string\",\"containsNull\":true},\"nullable\":true,\"metadata\":{}},{\"name\":\"id\",\"type\":\"string\",\"nullable\":true,\"metadata\":{}},{\"name\":\"images\",\"type\":{\"type\":\"array\",\"elementType\":\"string\",\"containsNull\":true},\"nullable\":true,\"metadata\":{}},{\"name\":\"import_t\",\"type\":\"long\",\"nullable\":true,\"metadata\":{}},{\"name\":\"manufacturer\",\"type\":\"string\",\"nullable\":true,\"metadata\":{}},{\"name\":\"name\",\"type\":\"string\",\"nullable\":true,\"metadata\":{}},{\"name\":\"url\",\"type\":\"string\",\"nullable\":true,\"metadata\":{}}]},\"containsNull\":true},\"nullable\":true,\"metadata\":{}},{\"name\":\"sources_fields\",\"type\":{\"type\":\"struct\",\"fields\":[{\"name\":\"org-database-usda\",\"type\":{\"type\":\"struct\",\"fields\":[{\"name\":\"available_date\",\"type\":\"string\",\"nullable\":true,\"metadata\":{}},{\"name\":\"fdc_category\",\"type\":\"string\",\"nullable\":true,\"metadata\":{}},{\"name\":\"fdc_data_source\",\"type\":\"string\",\"nullable\":true,\"metadata\":{}},{\"name\":\"fdc_id\",\"type\":\"string\",\"nullable\":true,\"metadata\":{}},{\"name\":\"modified_date\",\"type\":\"string\",\"nullable\":true,\"metadata\":{}},{\"name\":\"publication_date\",\"type\":\"string\",\"nullable\":true,\"metadata\":{}}]},\"nullable\":true,\"metadata\":{}}]},\"nullable\":true,\"metadata\":{}},{\"name\":\"states\",\"type\":\"string\",\"nullable\":true,\"metadata\":{}},{\"name\":\"states_hierarchy\",\"type\":{\"type\":\"array\",\"elementType\":\"string\",\"containsNull\":true},\"nullable\":true,\"metadata\":{}},{\"name\":\"states_tags\",\"type\":{\"type\":\"array\",\"elementType\":\"string\",\"containsNull\":true},\"nullable\":true,\"metadata\":{}},{\"name\":\"stores\",\"type\":\"string\",\"nullable\":true,\"metadata\":{}},{\"name\":\"stores_tags\",\"type\":{\"type\":\"array\",\"elementType\":\"string\",\"containsNull\":true},\"nullable\":true,\"metadata\":{}},{\"name\":\"teams\",\"type\":\"string\",\"nullable\":true,\"metadata\":{}},{\"name\":\"teams_tags\",\"type\":{\"type\":\"array\",\"elementType\":\"string\",\"containsNull\":true},\"nullable\":true,\"metadata\":{}},{\"name\":\"traces\",\"type\":\"string\",\"nullable\":true,\"metadata\":{}},{\"name\":\"traces_from_ingredients\",\"type\":\"string\",\"nullable\":true,\"metadata\":{}},{\"name\":\"traces_from_user\",\"type\":\"string\",\"nullable\":true,\"metadata\":{}},{\"name\":\"traces_hierarchy\",\"type\":{\"type\":\"array\",\"elementType\":\"string\",\"containsNull\":true},\"nullable\":true,\"metadata\":{}},{\"name\":\"traces_lc\",\"type\":\"string\",\"nullable\":true,\"metadata\":{}},{\"name\":\"traces_tags\",\"type\":{\"type\":\"array\",\"elementType\":\"string\",\"containsNull\":true},\"nullable\":true,\"metadata\":{}},{\"name\":\"unique_scans_n\",\"type\":\"long\",\"nullable\":true,\"metadata\":{}},{\"name\":\"unknown_ingredients_n\",\"type\":\"long\",\"nullable\":true,\"metadata\":{}},{\"name\":\"unknown_nutrients_tags\",\"type\":{\"type\":\"array\",\"elementType\":\"string\",\"containsNull\":true},\"nullable\":true,\"metadata\":{}},{\"name\":\"update_key\",\"type\":\"string\",\"nullable\":true,\"metadata\":{}},{\"name\":\"vitamins_prev_tags\",\"type\":{\"type\":\"array\",\"elementType\":\"string\",\"containsNull\":true},\"nullable\":true,\"metadata\":{}},{\"name\":\"vitamins_tags\",\"type\":{\"type\":\"array\",\"elementType\":\"string\",\"containsNull\":true},\"nullable\":true,\"metadata\":{}},{\"name\":\"weighers_tags\",\"type\":{\"type\":\"array\",\"elementType\":\"string\",\"containsNull\":true},\"nullable\":true,\"metadata\":{}}]}"
        },
        {
         "metadata": "{}",
         "name": "status",
         "type": "\"long\""
        },
        {
         "metadata": "{}",
         "name": "status_verbose",
         "type": "\"string\""
        }
       ],
       "type": "table"
      }
     },
     "output_type": "display_data"
    }
   ],
   "source": [
    "display(df)"
   ]
  },
  {
   "cell_type": "code",
   "execution_count": 0,
   "metadata": {
    "application/vnd.databricks.v1+cell": {
     "cellMetadata": {
      "byteLimit": 2048000,
      "rowLimit": 10000
     },
     "inputWidgets": {},
     "nuid": "6450c40e-bd0d-40dd-b712-cedb56efa29f",
     "showTitle": false,
     "title": ""
    }
   },
   "outputs": [],
   "source": [
    "# Parsing some values\n",
    "df = df.select(F.col('product').getItem('_id').alias('id'), \n",
    "               F.col('product')['_keywords'].alias('keywords'), \n",
    "               F.col('product')['categories_properties_tags'].alias('categories_prop_tags'),\n",
    "               F.col('product')['categories'].alias('categories'),\n",
    "               F.col('product')['correctors_tags'].alias('correctors_tags'),\n",
    "               F.col('product')['data_quality_info_tags'].alias('data_quality_info_tags'),\n",
    "               F.col('product')['data_sources_tags'].alias('data_sources_tags'),\n",
    "               \n",
    "               'status', 'status_verbose')"
   ]
  },
  {
   "cell_type": "code",
   "execution_count": 0,
   "metadata": {
    "application/vnd.databricks.v1+cell": {
     "cellMetadata": {
      "byteLimit": 2048000,
      "rowLimit": 10000
     },
     "inputWidgets": {},
     "nuid": "8ad6c245-d14b-40a2-93f7-d8490bb3f6bc",
     "showTitle": false,
     "title": ""
    }
   },
   "outputs": [
    {
     "output_type": "display_data",
     "data": {
      "text/html": [
       "<style scoped>\n",
       "  .table-result-container {\n",
       "    max-height: 300px;\n",
       "    overflow: auto;\n",
       "  }\n",
       "  table, th, td {\n",
       "    border: 1px solid black;\n",
       "    border-collapse: collapse;\n",
       "  }\n",
       "  th, td {\n",
       "    padding: 5px;\n",
       "  }\n",
       "  th {\n",
       "    text-align: left;\n",
       "  }\n",
       "</style><div class='table-result-container'><table class='table-result'><thead style='background-color: white'><tr><th>id</th><th>keywords</th><th>categories_prop_tags</th><th>categories</th><th>correctors_tags</th><th>data_quality_info_tags</th><th>data_sources_tags</th><th>status</th><th>status_verbose</th></tr></thead><tbody><tr><td>0737628064502</td><td>List(and, asia, beverage, cereal, food, gluten, include, kit, kitchen, no, noodle, pasta, peanut, plant-based, potatoe, product, rice, seasoning, simply, stir-fry, thai, thailand, their, vegan, vegetarian)</td><td>List(all-products, categories-known, agribalyse-food-code-unknown, agribalyse-proxy-food-code-unknown, ciqual-food-code-unknown, agribalyse-unknown)</td><td>Plant-based foods and beverages, Plant-based foods, Cereals and potatoes, Cereals and their products, Pastas, Noodles, Rice Noodles</td><td>List(andre, thierrym, usda-ndb-import, smartchef, org-database-usda, packbot, openfoodfacts-contributors, roboto-app, waytovegan, charlesnepote, foodie-tim)</td><td>List(en:packaging-data-incomplete, en:ingredients-percent-analysis-ok, en:ecoscore-extended-data-not-computed, en:food-groups-1-known, en:food-groups-2-known, en:food-groups-3-unknown)</td><td>List(databases, database-usda, database-usda-ndb)</td><td>1</td><td>product found</td></tr></tbody></table></div>"
      ]
     },
     "metadata": {
      "application/vnd.databricks.v1+output": {
       "addedWidgets": {},
       "aggData": [],
       "aggError": "",
       "aggOverflow": false,
       "aggSchema": [],
       "aggSeriesLimitReached": false,
       "aggType": "",
       "arguments": {},
       "columnCustomDisplayInfos": {},
       "data": [
        [
         "0737628064502",
         [
          "and",
          "asia",
          "beverage",
          "cereal",
          "food",
          "gluten",
          "include",
          "kit",
          "kitchen",
          "no",
          "noodle",
          "pasta",
          "peanut",
          "plant-based",
          "potatoe",
          "product",
          "rice",
          "seasoning",
          "simply",
          "stir-fry",
          "thai",
          "thailand",
          "their",
          "vegan",
          "vegetarian"
         ],
         [
          "all-products",
          "categories-known",
          "agribalyse-food-code-unknown",
          "agribalyse-proxy-food-code-unknown",
          "ciqual-food-code-unknown",
          "agribalyse-unknown"
         ],
         "Plant-based foods and beverages, Plant-based foods, Cereals and potatoes, Cereals and their products, Pastas, Noodles, Rice Noodles",
         [
          "andre",
          "thierrym",
          "usda-ndb-import",
          "smartchef",
          "org-database-usda",
          "packbot",
          "openfoodfacts-contributors",
          "roboto-app",
          "waytovegan",
          "charlesnepote",
          "foodie-tim"
         ],
         [
          "en:packaging-data-incomplete",
          "en:ingredients-percent-analysis-ok",
          "en:ecoscore-extended-data-not-computed",
          "en:food-groups-1-known",
          "en:food-groups-2-known",
          "en:food-groups-3-unknown"
         ],
         [
          "databases",
          "database-usda",
          "database-usda-ndb"
         ],
         1,
         "product found"
        ]
       ],
       "datasetInfos": [],
       "dbfsResultPath": null,
       "isJsonSchema": true,
       "metadata": {},
       "overflow": false,
       "plotOptions": {
        "customPlotOptions": {},
        "displayType": "table",
        "pivotAggregation": null,
        "pivotColumns": null,
        "xColumns": null,
        "yColumns": null
       },
       "removedWidgets": [],
       "schema": [
        {
         "metadata": "{}",
         "name": "id",
         "type": "\"string\""
        },
        {
         "metadata": "{}",
         "name": "keywords",
         "type": "{\"type\":\"array\",\"elementType\":\"string\",\"containsNull\":true}"
        },
        {
         "metadata": "{}",
         "name": "categories_prop_tags",
         "type": "{\"type\":\"array\",\"elementType\":\"string\",\"containsNull\":true}"
        },
        {
         "metadata": "{}",
         "name": "categories",
         "type": "\"string\""
        },
        {
         "metadata": "{}",
         "name": "correctors_tags",
         "type": "{\"type\":\"array\",\"elementType\":\"string\",\"containsNull\":true}"
        },
        {
         "metadata": "{}",
         "name": "data_quality_info_tags",
         "type": "{\"type\":\"array\",\"elementType\":\"string\",\"containsNull\":true}"
        },
        {
         "metadata": "{}",
         "name": "data_sources_tags",
         "type": "{\"type\":\"array\",\"elementType\":\"string\",\"containsNull\":true}"
        },
        {
         "metadata": "{}",
         "name": "status",
         "type": "\"long\""
        },
        {
         "metadata": "{}",
         "name": "status_verbose",
         "type": "\"string\""
        }
       ],
       "type": "table"
      }
     },
     "output_type": "display_data"
    }
   ],
   "source": [
    "display(df)"
   ]
  },
  {
   "cell_type": "code",
   "execution_count": 0,
   "metadata": {
    "application/vnd.databricks.v1+cell": {
     "cellMetadata": {
      "byteLimit": 2048000,
      "rowLimit": 10000
     },
     "inputWidgets": {},
     "nuid": "c55ab149-abe4-45f6-b2a0-94009527cdd7",
     "showTitle": false,
     "title": ""
    }
   },
   "outputs": [],
   "source": [
    "# Saving into silver layer\n",
    "out_path = 'dbfs:/mnt/blobstorageS'"
   ]
  },
  {
   "cell_type": "code",
   "execution_count": 0,
   "metadata": {
    "application/vnd.databricks.v1+cell": {
     "cellMetadata": {
      "byteLimit": 2048000,
      "rowLimit": 10000
     },
     "inputWidgets": {},
     "nuid": "1da0353a-1d31-456b-84a9-63fe76d4a805",
     "showTitle": false,
     "title": ""
    }
   },
   "outputs": [],
   "source": [
    "# saving\n",
    "df.write.format(\"delta\").mode(\"overWrite\").save(out_path)"
   ]
  },
  {
   "cell_type": "code",
   "execution_count": 0,
   "metadata": {
    "application/vnd.databricks.v1+cell": {
     "cellMetadata": {},
     "inputWidgets": {},
     "nuid": "f78f909b-66a2-4974-b609-48377cfcb2c0",
     "showTitle": false,
     "title": ""
    }
   },
   "outputs": [],
   "source": []
  }
 ],
 "metadata": {
  "application/vnd.databricks.v1+notebook": {
   "dashboards": [],
   "language": "python",
   "notebookMetadata": {
    "mostRecentlyExecutedCommandWithImplicitDF": {
     "commandId": 3118434477147912,
     "dataframes": [
      "_sqldf"
     ]
    },
    "pythonIndentUnit": 4
   },
   "notebookName": "bronze to silver",
   "widgets": {}
  }
 },
 "nbformat": 4,
 "nbformat_minor": 0
}
