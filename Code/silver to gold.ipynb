{
 "cells": [
  {
   "cell_type": "code",
   "execution_count": 0,
   "metadata": {
    "application/vnd.databricks.v1+cell": {
     "cellMetadata": {
      "byteLimit": 2048000,
      "rowLimit": 10000
     },
     "inputWidgets": {},
     "nuid": "797322d2-851e-43cd-a894-45d10434b069",
     "showTitle": false,
     "title": ""
    }
   },
   "outputs": [],
   "source": [
    "#input path for load delta format table\n",
    "input_path = 'dbfs:/mnt/blobstorageS/'"
   ]
  },
  {
   "cell_type": "code",
   "execution_count": 0,
   "metadata": {
    "application/vnd.databricks.v1+cell": {
     "cellMetadata": {
      "byteLimit": 2048000,
      "rowLimit": 10000
     },
     "inputWidgets": {},
     "nuid": "4610c8ea-68f6-4aa4-9ae1-ee299802c2c3",
     "showTitle": false,
     "title": ""
    }
   },
   "outputs": [],
   "source": [
    "# loading\n",
    "df = spark.read.format('delta').load(input_path)"
   ]
  },
  {
   "cell_type": "code",
   "execution_count": 0,
   "metadata": {
    "application/vnd.databricks.v1+cell": {
     "cellMetadata": {
      "byteLimit": 2048000,
      "rowLimit": 10000
     },
     "inputWidgets": {},
     "nuid": "5c5dc48a-6fcf-43df-ad4d-12299846bcea",
     "showTitle": false,
     "title": ""
    }
   },
   "outputs": [
    {
     "output_type": "display_data",
     "data": {
      "text/html": [
       "<style scoped>\n",
       "  .table-result-container {\n",
       "    max-height: 300px;\n",
       "    overflow: auto;\n",
       "  }\n",
       "  table, th, td {\n",
       "    border: 1px solid black;\n",
       "    border-collapse: collapse;\n",
       "  }\n",
       "  th, td {\n",
       "    padding: 5px;\n",
       "  }\n",
       "  th {\n",
       "    text-align: left;\n",
       "  }\n",
       "</style><div class='table-result-container'><table class='table-result'><thead style='background-color: white'><tr><th>id</th><th>keywords</th><th>categories_prop_tags</th><th>categories</th><th>correctors_tags</th><th>data_quality_info_tags</th><th>data_sources_tags</th><th>status</th><th>status_verbose</th></tr></thead><tbody><tr><td>0737628064502</td><td>List(and, asia, beverage, cereal, food, gluten, include, kit, kitchen, no, noodle, pasta, peanut, plant-based, potatoe, product, rice, seasoning, simply, stir-fry, thai, thailand, their, vegan, vegetarian)</td><td>List(all-products, categories-known, agribalyse-food-code-unknown, agribalyse-proxy-food-code-unknown, ciqual-food-code-unknown, agribalyse-unknown)</td><td>Plant-based foods and beverages, Plant-based foods, Cereals and potatoes, Cereals and their products, Pastas, Noodles, Rice Noodles</td><td>List(andre, thierrym, usda-ndb-import, smartchef, org-database-usda, packbot, openfoodfacts-contributors, roboto-app, waytovegan, charlesnepote, foodie-tim)</td><td>List(en:packaging-data-incomplete, en:ingredients-percent-analysis-ok, en:ecoscore-extended-data-not-computed, en:food-groups-1-known, en:food-groups-2-known, en:food-groups-3-unknown)</td><td>List(databases, database-usda, database-usda-ndb)</td><td>1</td><td>product found</td></tr></tbody></table></div>"
      ]
     },
     "metadata": {
      "application/vnd.databricks.v1+output": {
       "addedWidgets": {},
       "aggData": [],
       "aggError": "",
       "aggOverflow": false,
       "aggSchema": [],
       "aggSeriesLimitReached": false,
       "aggType": "",
       "arguments": {},
       "columnCustomDisplayInfos": {},
       "data": [
        [
         "0737628064502",
         [
          "and",
          "asia",
          "beverage",
          "cereal",
          "food",
          "gluten",
          "include",
          "kit",
          "kitchen",
          "no",
          "noodle",
          "pasta",
          "peanut",
          "plant-based",
          "potatoe",
          "product",
          "rice",
          "seasoning",
          "simply",
          "stir-fry",
          "thai",
          "thailand",
          "their",
          "vegan",
          "vegetarian"
         ],
         [
          "all-products",
          "categories-known",
          "agribalyse-food-code-unknown",
          "agribalyse-proxy-food-code-unknown",
          "ciqual-food-code-unknown",
          "agribalyse-unknown"
         ],
         "Plant-based foods and beverages, Plant-based foods, Cereals and potatoes, Cereals and their products, Pastas, Noodles, Rice Noodles",
         [
          "andre",
          "thierrym",
          "usda-ndb-import",
          "smartchef",
          "org-database-usda",
          "packbot",
          "openfoodfacts-contributors",
          "roboto-app",
          "waytovegan",
          "charlesnepote",
          "foodie-tim"
         ],
         [
          "en:packaging-data-incomplete",
          "en:ingredients-percent-analysis-ok",
          "en:ecoscore-extended-data-not-computed",
          "en:food-groups-1-known",
          "en:food-groups-2-known",
          "en:food-groups-3-unknown"
         ],
         [
          "databases",
          "database-usda",
          "database-usda-ndb"
         ],
         1,
         "product found"
        ]
       ],
       "datasetInfos": [],
       "dbfsResultPath": null,
       "isJsonSchema": true,
       "metadata": {},
       "overflow": false,
       "plotOptions": {
        "customPlotOptions": {},
        "displayType": "table",
        "pivotAggregation": null,
        "pivotColumns": null,
        "xColumns": null,
        "yColumns": null
       },
       "removedWidgets": [],
       "schema": [
        {
         "metadata": "{}",
         "name": "id",
         "type": "\"string\""
        },
        {
         "metadata": "{}",
         "name": "keywords",
         "type": "{\"type\":\"array\",\"elementType\":\"string\",\"containsNull\":true}"
        },
        {
         "metadata": "{}",
         "name": "categories_prop_tags",
         "type": "{\"type\":\"array\",\"elementType\":\"string\",\"containsNull\":true}"
        },
        {
         "metadata": "{}",
         "name": "categories",
         "type": "\"string\""
        },
        {
         "metadata": "{}",
         "name": "correctors_tags",
         "type": "{\"type\":\"array\",\"elementType\":\"string\",\"containsNull\":true}"
        },
        {
         "metadata": "{}",
         "name": "data_quality_info_tags",
         "type": "{\"type\":\"array\",\"elementType\":\"string\",\"containsNull\":true}"
        },
        {
         "metadata": "{}",
         "name": "data_sources_tags",
         "type": "{\"type\":\"array\",\"elementType\":\"string\",\"containsNull\":true}"
        },
        {
         "metadata": "{}",
         "name": "status",
         "type": "\"long\""
        },
        {
         "metadata": "{}",
         "name": "status_verbose",
         "type": "\"string\""
        }
       ],
       "type": "table"
      }
     },
     "output_type": "display_data"
    }
   ],
   "source": [
    "display(df)"
   ]
  },
  {
   "cell_type": "code",
   "execution_count": 0,
   "metadata": {
    "application/vnd.databricks.v1+cell": {
     "cellMetadata": {
      "byteLimit": 2048000,
      "rowLimit": 10000
     },
     "inputWidgets": {},
     "nuid": "860a13e0-dfee-422a-b697-5286eee8d0d6",
     "showTitle": false,
     "title": ""
    }
   },
   "outputs": [],
   "source": [
    "# Change columns name\n",
    "df = df.withColumnRenamed(\"id\", \"Product_id\")\n",
    "df = df.withColumnRenamed(\"keywrods\", \"Keywords\")\n",
    "df = df.withColumnRenamed(\"categories_prop_tags\", \"Categories_property_tags\")\n",
    "df = df.withColumnRenamed(\"categories\", \"Categories\")\n",
    "df = df.withColumnRenamed(\"correctors_tags\", \"Correctors_tags\")\n",
    "df = df.withColumnRenamed(\"data_quality_info_tags\", \"Data_quality_info_tags\")\n",
    "df = df.withColumnRenamed(\"data_sources_tags\", \"Data_sources_tags\")\n",
    "df = df.withColumnRenamed(\"status\", \"Status\")\n",
    "df = df.withColumnRenamed(\"status_verbose\", \"Status_verbose\")"
   ]
  },
  {
   "cell_type": "code",
   "execution_count": 0,
   "metadata": {
    "application/vnd.databricks.v1+cell": {
     "cellMetadata": {
      "byteLimit": 2048000,
      "rowLimit": 10000
     },
     "inputWidgets": {},
     "nuid": "03c37153-73a7-4adf-ad40-dff84d0da8ef",
     "showTitle": false,
     "title": ""
    }
   },
   "outputs": [
    {
     "output_type": "display_data",
     "data": {
      "text/html": [
       "<style scoped>\n",
       "  .table-result-container {\n",
       "    max-height: 300px;\n",
       "    overflow: auto;\n",
       "  }\n",
       "  table, th, td {\n",
       "    border: 1px solid black;\n",
       "    border-collapse: collapse;\n",
       "  }\n",
       "  th, td {\n",
       "    padding: 5px;\n",
       "  }\n",
       "  th {\n",
       "    text-align: left;\n",
       "  }\n",
       "</style><div class='table-result-container'><table class='table-result'><thead style='background-color: white'><tr><th>Product_id</th><th>keywords</th><th>Categories_property_tags</th><th>Categories</th><th>Correctors_tags</th><th>Data_quality_info_tags</th><th>Data_sources_tags</th><th>Status</th><th>Status_verbose</th></tr></thead><tbody><tr><td>0737628064502</td><td>List(and, asia, beverage, cereal, food, gluten, include, kit, kitchen, no, noodle, pasta, peanut, plant-based, potatoe, product, rice, seasoning, simply, stir-fry, thai, thailand, their, vegan, vegetarian)</td><td>List(all-products, categories-known, agribalyse-food-code-unknown, agribalyse-proxy-food-code-unknown, ciqual-food-code-unknown, agribalyse-unknown)</td><td>Plant-based foods and beverages, Plant-based foods, Cereals and potatoes, Cereals and their products, Pastas, Noodles, Rice Noodles</td><td>List(andre, thierrym, usda-ndb-import, smartchef, org-database-usda, packbot, openfoodfacts-contributors, roboto-app, waytovegan, charlesnepote, foodie-tim)</td><td>List(en:packaging-data-incomplete, en:ingredients-percent-analysis-ok, en:ecoscore-extended-data-not-computed, en:food-groups-1-known, en:food-groups-2-known, en:food-groups-3-unknown)</td><td>List(databases, database-usda, database-usda-ndb)</td><td>1</td><td>product found</td></tr></tbody></table></div>"
      ]
     },
     "metadata": {
      "application/vnd.databricks.v1+output": {
       "addedWidgets": {},
       "aggData": [],
       "aggError": "",
       "aggOverflow": false,
       "aggSchema": [],
       "aggSeriesLimitReached": false,
       "aggType": "",
       "arguments": {},
       "columnCustomDisplayInfos": {},
       "data": [
        [
         "0737628064502",
         [
          "and",
          "asia",
          "beverage",
          "cereal",
          "food",
          "gluten",
          "include",
          "kit",
          "kitchen",
          "no",
          "noodle",
          "pasta",
          "peanut",
          "plant-based",
          "potatoe",
          "product",
          "rice",
          "seasoning",
          "simply",
          "stir-fry",
          "thai",
          "thailand",
          "their",
          "vegan",
          "vegetarian"
         ],
         [
          "all-products",
          "categories-known",
          "agribalyse-food-code-unknown",
          "agribalyse-proxy-food-code-unknown",
          "ciqual-food-code-unknown",
          "agribalyse-unknown"
         ],
         "Plant-based foods and beverages, Plant-based foods, Cereals and potatoes, Cereals and their products, Pastas, Noodles, Rice Noodles",
         [
          "andre",
          "thierrym",
          "usda-ndb-import",
          "smartchef",
          "org-database-usda",
          "packbot",
          "openfoodfacts-contributors",
          "roboto-app",
          "waytovegan",
          "charlesnepote",
          "foodie-tim"
         ],
         [
          "en:packaging-data-incomplete",
          "en:ingredients-percent-analysis-ok",
          "en:ecoscore-extended-data-not-computed",
          "en:food-groups-1-known",
          "en:food-groups-2-known",
          "en:food-groups-3-unknown"
         ],
         [
          "databases",
          "database-usda",
          "database-usda-ndb"
         ],
         1,
         "product found"
        ]
       ],
       "datasetInfos": [],
       "dbfsResultPath": null,
       "isJsonSchema": true,
       "metadata": {},
       "overflow": false,
       "plotOptions": {
        "customPlotOptions": {},
        "displayType": "table",
        "pivotAggregation": null,
        "pivotColumns": null,
        "xColumns": null,
        "yColumns": null
       },
       "removedWidgets": [],
       "schema": [
        {
         "metadata": "{}",
         "name": "Product_id",
         "type": "\"string\""
        },
        {
         "metadata": "{}",
         "name": "keywords",
         "type": "{\"type\":\"array\",\"elementType\":\"string\",\"containsNull\":true}"
        },
        {
         "metadata": "{}",
         "name": "Categories_property_tags",
         "type": "{\"type\":\"array\",\"elementType\":\"string\",\"containsNull\":true}"
        },
        {
         "metadata": "{}",
         "name": "Categories",
         "type": "\"string\""
        },
        {
         "metadata": "{}",
         "name": "Correctors_tags",
         "type": "{\"type\":\"array\",\"elementType\":\"string\",\"containsNull\":true}"
        },
        {
         "metadata": "{}",
         "name": "Data_quality_info_tags",
         "type": "{\"type\":\"array\",\"elementType\":\"string\",\"containsNull\":true}"
        },
        {
         "metadata": "{}",
         "name": "Data_sources_tags",
         "type": "{\"type\":\"array\",\"elementType\":\"string\",\"containsNull\":true}"
        },
        {
         "metadata": "{}",
         "name": "Status",
         "type": "\"long\""
        },
        {
         "metadata": "{}",
         "name": "Status_verbose",
         "type": "\"string\""
        }
       ],
       "type": "table"
      }
     },
     "output_type": "display_data"
    }
   ],
   "source": [
    "display(df)"
   ]
  },
  {
   "cell_type": "code",
   "execution_count": 0,
   "metadata": {
    "application/vnd.databricks.v1+cell": {
     "cellMetadata": {
      "byteLimit": 2048000,
      "rowLimit": 10000
     },
     "inputWidgets": {},
     "nuid": "060e4b17-6cd2-4163-a40f-a8576969a133",
     "showTitle": false,
     "title": ""
    }
   },
   "outputs": [],
   "source": [
    "# Saving into gold layer\n",
    "out_path = 'dbfs:/mnt/blobstorageG'"
   ]
  },
  {
   "cell_type": "code",
   "execution_count": 0,
   "metadata": {
    "application/vnd.databricks.v1+cell": {
     "cellMetadata": {
      "byteLimit": 2048000,
      "rowLimit": 10000
     },
     "inputWidgets": {},
     "nuid": "c1756adf-1366-4102-8c04-f5151ca728ad",
     "showTitle": false,
     "title": ""
    }
   },
   "outputs": [],
   "source": [
    "# saving\n",
    "df.write.format(\"delta\").mode(\"overWrite\").save(out_path)"
   ]
  },
  {
   "cell_type": "code",
   "execution_count": 0,
   "metadata": {
    "application/vnd.databricks.v1+cell": {
     "cellMetadata": {},
     "inputWidgets": {},
     "nuid": "967a088a-bca0-413d-9894-8fd4b7e6abd0",
     "showTitle": false,
     "title": ""
    }
   },
   "outputs": [],
   "source": []
  }
 ],
 "metadata": {
  "application/vnd.databricks.v1+notebook": {
   "dashboards": [],
   "language": "python",
   "notebookMetadata": {
    "pythonIndentUnit": 4
   },
   "notebookName": "silver to gold",
   "widgets": {}
  }
 },
 "nbformat": 4,
 "nbformat_minor": 0
}
